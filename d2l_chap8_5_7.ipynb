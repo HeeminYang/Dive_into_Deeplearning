{
  "cells": [
    {
      "cell_type": "markdown",
      "metadata": {
        "id": "view-in-github",
        "colab_type": "text"
      },
      "source": [
        "<a href=\"https://colab.research.google.com/github/HeeminYang/gAMza/blob/main/d2l_chap8_5_7.ipynb\" target=\"_parent\"><img src=\"https://colab.research.google.com/assets/colab-badge.svg\" alt=\"Open In Colab\"/></a>"
      ]
    },
    {
      "cell_type": "code",
      "execution_count": 1,
      "id": "ab34a109",
      "metadata": {
        "id": "ab34a109",
        "colab": {
          "base_uri": "https://localhost:8080/"
        },
        "outputId": "4a163cd1-19c5-47d7-e5b3-8641bd927dd8"
      },
      "outputs": [
        {
          "output_type": "stream",
          "name": "stdout",
          "text": [
            "Looking in indexes: https://pypi.org/simple, https://us-python.pkg.dev/colab-wheels/public/simple/\n",
            "Requirement already satisfied: d2l==0.17.5 in /usr/local/lib/python3.7/dist-packages (0.17.5)\n",
            "Requirement already satisfied: jupyter==1.0.0 in /usr/local/lib/python3.7/dist-packages (from d2l==0.17.5) (1.0.0)\n",
            "Requirement already satisfied: numpy==1.21.5 in /usr/local/lib/python3.7/dist-packages (from d2l==0.17.5) (1.21.5)\n",
            "Requirement already satisfied: requests==2.25.1 in /usr/local/lib/python3.7/dist-packages (from d2l==0.17.5) (2.25.1)\n",
            "Requirement already satisfied: pandas==1.2.4 in /usr/local/lib/python3.7/dist-packages (from d2l==0.17.5) (1.2.4)\n",
            "Requirement already satisfied: matplotlib==3.5.1 in /usr/local/lib/python3.7/dist-packages (from d2l==0.17.5) (3.5.1)\n",
            "Requirement already satisfied: notebook in /usr/local/lib/python3.7/dist-packages (from jupyter==1.0.0->d2l==0.17.5) (5.3.1)\n",
            "Requirement already satisfied: nbconvert in /usr/local/lib/python3.7/dist-packages (from jupyter==1.0.0->d2l==0.17.5) (5.6.1)\n",
            "Requirement already satisfied: ipywidgets in /usr/local/lib/python3.7/dist-packages (from jupyter==1.0.0->d2l==0.17.5) (7.7.1)\n",
            "Requirement already satisfied: qtconsole in /usr/local/lib/python3.7/dist-packages (from jupyter==1.0.0->d2l==0.17.5) (5.3.1)\n",
            "Requirement already satisfied: ipykernel in /usr/local/lib/python3.7/dist-packages (from jupyter==1.0.0->d2l==0.17.5) (4.10.1)\n",
            "Requirement already satisfied: jupyter-console in /usr/local/lib/python3.7/dist-packages (from jupyter==1.0.0->d2l==0.17.5) (5.2.0)\n",
            "Requirement already satisfied: kiwisolver>=1.0.1 in /usr/local/lib/python3.7/dist-packages (from matplotlib==3.5.1->d2l==0.17.5) (1.4.3)\n",
            "Requirement already satisfied: pyparsing>=2.2.1 in /usr/local/lib/python3.7/dist-packages (from matplotlib==3.5.1->d2l==0.17.5) (3.0.9)\n",
            "Requirement already satisfied: cycler>=0.10 in /usr/local/lib/python3.7/dist-packages (from matplotlib==3.5.1->d2l==0.17.5) (0.11.0)\n",
            "Requirement already satisfied: pillow>=6.2.0 in /usr/local/lib/python3.7/dist-packages (from matplotlib==3.5.1->d2l==0.17.5) (7.1.2)\n",
            "Requirement already satisfied: packaging>=20.0 in /usr/local/lib/python3.7/dist-packages (from matplotlib==3.5.1->d2l==0.17.5) (21.3)\n",
            "Requirement already satisfied: python-dateutil>=2.7 in /usr/local/lib/python3.7/dist-packages (from matplotlib==3.5.1->d2l==0.17.5) (2.8.2)\n",
            "Requirement already satisfied: fonttools>=4.22.0 in /usr/local/lib/python3.7/dist-packages (from matplotlib==3.5.1->d2l==0.17.5) (4.34.4)\n",
            "Requirement already satisfied: pytz>=2017.3 in /usr/local/lib/python3.7/dist-packages (from pandas==1.2.4->d2l==0.17.5) (2022.1)\n",
            "Requirement already satisfied: urllib3<1.27,>=1.21.1 in /usr/local/lib/python3.7/dist-packages (from requests==2.25.1->d2l==0.17.5) (1.24.3)\n",
            "Requirement already satisfied: chardet<5,>=3.0.2 in /usr/local/lib/python3.7/dist-packages (from requests==2.25.1->d2l==0.17.5) (3.0.4)\n",
            "Requirement already satisfied: idna<3,>=2.5 in /usr/local/lib/python3.7/dist-packages (from requests==2.25.1->d2l==0.17.5) (2.10)\n",
            "Requirement already satisfied: certifi>=2017.4.17 in /usr/local/lib/python3.7/dist-packages (from requests==2.25.1->d2l==0.17.5) (2022.6.15)\n",
            "Requirement already satisfied: typing-extensions in /usr/local/lib/python3.7/dist-packages (from kiwisolver>=1.0.1->matplotlib==3.5.1->d2l==0.17.5) (4.1.1)\n",
            "Requirement already satisfied: six>=1.5 in /usr/local/lib/python3.7/dist-packages (from python-dateutil>=2.7->matplotlib==3.5.1->d2l==0.17.5) (1.15.0)\n",
            "Requirement already satisfied: tornado>=4.0 in /usr/local/lib/python3.7/dist-packages (from ipykernel->jupyter==1.0.0->d2l==0.17.5) (5.1.1)\n",
            "Requirement already satisfied: traitlets>=4.1.0 in /usr/local/lib/python3.7/dist-packages (from ipykernel->jupyter==1.0.0->d2l==0.17.5) (5.1.1)\n",
            "Requirement already satisfied: jupyter-client in /usr/local/lib/python3.7/dist-packages (from ipykernel->jupyter==1.0.0->d2l==0.17.5) (5.3.5)\n",
            "Requirement already satisfied: ipython>=4.0.0 in /usr/local/lib/python3.7/dist-packages (from ipykernel->jupyter==1.0.0->d2l==0.17.5) (5.5.0)\n",
            "Requirement already satisfied: prompt-toolkit<2.0.0,>=1.0.4 in /usr/local/lib/python3.7/dist-packages (from ipython>=4.0.0->ipykernel->jupyter==1.0.0->d2l==0.17.5) (1.0.18)\n",
            "Requirement already satisfied: pexpect in /usr/local/lib/python3.7/dist-packages (from ipython>=4.0.0->ipykernel->jupyter==1.0.0->d2l==0.17.5) (4.8.0)\n",
            "Requirement already satisfied: decorator in /usr/local/lib/python3.7/dist-packages (from ipython>=4.0.0->ipykernel->jupyter==1.0.0->d2l==0.17.5) (4.4.2)\n",
            "Requirement already satisfied: setuptools>=18.5 in /usr/local/lib/python3.7/dist-packages (from ipython>=4.0.0->ipykernel->jupyter==1.0.0->d2l==0.17.5) (57.4.0)\n",
            "Requirement already satisfied: simplegeneric>0.8 in /usr/local/lib/python3.7/dist-packages (from ipython>=4.0.0->ipykernel->jupyter==1.0.0->d2l==0.17.5) (0.8.1)\n",
            "Requirement already satisfied: pickleshare in /usr/local/lib/python3.7/dist-packages (from ipython>=4.0.0->ipykernel->jupyter==1.0.0->d2l==0.17.5) (0.7.5)\n",
            "Requirement already satisfied: pygments in /usr/local/lib/python3.7/dist-packages (from ipython>=4.0.0->ipykernel->jupyter==1.0.0->d2l==0.17.5) (2.6.1)\n",
            "Requirement already satisfied: wcwidth in /usr/local/lib/python3.7/dist-packages (from prompt-toolkit<2.0.0,>=1.0.4->ipython>=4.0.0->ipykernel->jupyter==1.0.0->d2l==0.17.5) (0.2.5)\n",
            "Requirement already satisfied: jupyterlab-widgets>=1.0.0 in /usr/local/lib/python3.7/dist-packages (from ipywidgets->jupyter==1.0.0->d2l==0.17.5) (1.1.1)\n",
            "Requirement already satisfied: widgetsnbextension~=3.6.0 in /usr/local/lib/python3.7/dist-packages (from ipywidgets->jupyter==1.0.0->d2l==0.17.5) (3.6.1)\n",
            "Requirement already satisfied: ipython-genutils~=0.2.0 in /usr/local/lib/python3.7/dist-packages (from ipywidgets->jupyter==1.0.0->d2l==0.17.5) (0.2.0)\n",
            "Requirement already satisfied: jupyter-core>=4.4.0 in /usr/local/lib/python3.7/dist-packages (from notebook->jupyter==1.0.0->d2l==0.17.5) (4.11.1)\n",
            "Requirement already satisfied: nbformat in /usr/local/lib/python3.7/dist-packages (from notebook->jupyter==1.0.0->d2l==0.17.5) (5.4.0)\n",
            "Requirement already satisfied: Send2Trash in /usr/local/lib/python3.7/dist-packages (from notebook->jupyter==1.0.0->d2l==0.17.5) (1.8.0)\n",
            "Requirement already satisfied: jinja2 in /usr/local/lib/python3.7/dist-packages (from notebook->jupyter==1.0.0->d2l==0.17.5) (2.11.3)\n",
            "Requirement already satisfied: terminado>=0.8.1 in /usr/local/lib/python3.7/dist-packages (from notebook->jupyter==1.0.0->d2l==0.17.5) (0.13.3)\n",
            "Requirement already satisfied: pyzmq>=13 in /usr/local/lib/python3.7/dist-packages (from jupyter-client->ipykernel->jupyter==1.0.0->d2l==0.17.5) (23.2.0)\n",
            "Requirement already satisfied: ptyprocess in /usr/local/lib/python3.7/dist-packages (from terminado>=0.8.1->notebook->jupyter==1.0.0->d2l==0.17.5) (0.7.0)\n",
            "Requirement already satisfied: MarkupSafe>=0.23 in /usr/local/lib/python3.7/dist-packages (from jinja2->notebook->jupyter==1.0.0->d2l==0.17.5) (2.0.1)\n",
            "Requirement already satisfied: mistune<2,>=0.8.1 in /usr/local/lib/python3.7/dist-packages (from nbconvert->jupyter==1.0.0->d2l==0.17.5) (0.8.4)\n",
            "Requirement already satisfied: entrypoints>=0.2.2 in /usr/local/lib/python3.7/dist-packages (from nbconvert->jupyter==1.0.0->d2l==0.17.5) (0.4)\n",
            "Requirement already satisfied: pandocfilters>=1.4.1 in /usr/local/lib/python3.7/dist-packages (from nbconvert->jupyter==1.0.0->d2l==0.17.5) (1.5.0)\n",
            "Requirement already satisfied: defusedxml in /usr/local/lib/python3.7/dist-packages (from nbconvert->jupyter==1.0.0->d2l==0.17.5) (0.7.1)\n",
            "Requirement already satisfied: bleach in /usr/local/lib/python3.7/dist-packages (from nbconvert->jupyter==1.0.0->d2l==0.17.5) (5.0.1)\n",
            "Requirement already satisfied: testpath in /usr/local/lib/python3.7/dist-packages (from nbconvert->jupyter==1.0.0->d2l==0.17.5) (0.6.0)\n",
            "Requirement already satisfied: fastjsonschema in /usr/local/lib/python3.7/dist-packages (from nbformat->notebook->jupyter==1.0.0->d2l==0.17.5) (2.15.3)\n",
            "Requirement already satisfied: jsonschema>=2.6 in /usr/local/lib/python3.7/dist-packages (from nbformat->notebook->jupyter==1.0.0->d2l==0.17.5) (4.3.3)\n",
            "Requirement already satisfied: importlib-resources>=1.4.0 in /usr/local/lib/python3.7/dist-packages (from jsonschema>=2.6->nbformat->notebook->jupyter==1.0.0->d2l==0.17.5) (5.8.0)\n",
            "Requirement already satisfied: pyrsistent!=0.17.0,!=0.17.1,!=0.17.2,>=0.14.0 in /usr/local/lib/python3.7/dist-packages (from jsonschema>=2.6->nbformat->notebook->jupyter==1.0.0->d2l==0.17.5) (0.18.1)\n",
            "Requirement already satisfied: importlib-metadata in /usr/local/lib/python3.7/dist-packages (from jsonschema>=2.6->nbformat->notebook->jupyter==1.0.0->d2l==0.17.5) (4.12.0)\n",
            "Requirement already satisfied: attrs>=17.4.0 in /usr/local/lib/python3.7/dist-packages (from jsonschema>=2.6->nbformat->notebook->jupyter==1.0.0->d2l==0.17.5) (21.4.0)\n",
            "Requirement already satisfied: zipp>=3.1.0 in /usr/local/lib/python3.7/dist-packages (from importlib-resources>=1.4.0->jsonschema>=2.6->nbformat->notebook->jupyter==1.0.0->d2l==0.17.5) (3.8.0)\n",
            "Requirement already satisfied: webencodings in /usr/local/lib/python3.7/dist-packages (from bleach->nbconvert->jupyter==1.0.0->d2l==0.17.5) (0.5.1)\n",
            "Requirement already satisfied: qtpy>=2.0.1 in /usr/local/lib/python3.7/dist-packages (from qtconsole->jupyter==1.0.0->d2l==0.17.5) (2.1.0)\n"
          ]
        }
      ],
      "source": [
        "!pip install d2l==0.17.5                                                        # 설치 후 runtime restart"
      ]
    },
    {
      "cell_type": "markdown",
      "id": "e91f54c2",
      "metadata": {
        "origin_pos": 0,
        "id": "e91f54c2"
      },
      "source": [
        "# RNN 처음부터 구현하기\n",
        "\n",
        "- 8.4의 설명에 따라 character 단위 언어모델을 위한 RNN 구현하기\n",
        "- H. G. 웰스의 타임머신 데이터셋 불러오기"
      ]
    },
    {
      "cell_type": "code",
      "execution_count": 2,
      "id": "2d697d41",
      "metadata": {
        "execution": {
          "iopub.execute_input": "2022-07-10T03:29:40.099878Z",
          "iopub.status.busy": "2022-07-10T03:29:40.099501Z",
          "iopub.status.idle": "2022-07-10T03:29:42.965925Z",
          "shell.execute_reply": "2022-07-10T03:29:42.964699Z"
        },
        "origin_pos": 2,
        "tab": [
          "pytorch"
        ],
        "id": "2d697d41"
      },
      "outputs": [],
      "source": [
        "%matplotlib inline\n",
        "import math\n",
        "import torch\n",
        "from torch import nn\n",
        "from torch.nn import functional as F\n",
        "from d2l import torch as d2l"
      ]
    },
    {
      "cell_type": "code",
      "execution_count": 3,
      "id": "cfd9d45f",
      "metadata": {
        "execution": {
          "iopub.execute_input": "2022-07-10T03:29:42.971089Z",
          "iopub.status.busy": "2022-07-10T03:29:42.970487Z",
          "iopub.status.idle": "2022-07-10T03:29:43.077631Z",
          "shell.execute_reply": "2022-07-10T03:29:43.076434Z"
        },
        "origin_pos": 4,
        "tab": [
          "pytorch"
        ],
        "id": "cfd9d45f"
      },
      "outputs": [],
      "source": [
        "batch_size, num_steps = 32, 35\n",
        "train_iter, vocab = d2l.load_data_time_machine(batch_size, num_steps)"
      ]
    },
    {
      "cell_type": "code",
      "source": [
        "vocab.token_freqs, len(vocab)"
      ],
      "metadata": {
        "colab": {
          "base_uri": "https://localhost:8080/"
        },
        "id": "vahqA4iW1P-E",
        "outputId": "80e240dd-4c22-4390-9dba-1a948e97bed5"
      },
      "id": "vahqA4iW1P-E",
      "execution_count": 4,
      "outputs": [
        {
          "output_type": "execute_result",
          "data": {
            "text/plain": [
              "([(' ', 29927),\n",
              "  ('e', 17838),\n",
              "  ('t', 13515),\n",
              "  ('a', 11704),\n",
              "  ('i', 10138),\n",
              "  ('n', 9917),\n",
              "  ('o', 9758),\n",
              "  ('s', 8486),\n",
              "  ('h', 8257),\n",
              "  ('r', 7674),\n",
              "  ('d', 6337),\n",
              "  ('l', 6146),\n",
              "  ('m', 4043),\n",
              "  ('u', 3805),\n",
              "  ('c', 3424),\n",
              "  ('f', 3354),\n",
              "  ('w', 3225),\n",
              "  ('g', 3075),\n",
              "  ('y', 2679),\n",
              "  ('p', 2427),\n",
              "  ('b', 1897),\n",
              "  ('v', 1295),\n",
              "  ('k', 1087),\n",
              "  ('x', 236),\n",
              "  ('z', 144),\n",
              "  ('j', 97),\n",
              "  ('q', 95)],\n",
              " 28)"
            ]
          },
          "metadata": {},
          "execution_count": 4
        }
      ]
    },
    {
      "cell_type": "code",
      "source": [
        "next(iter(train_iter))"
      ],
      "metadata": {
        "colab": {
          "base_uri": "https://localhost:8080/"
        },
        "id": "NL0esNfmQBnS",
        "outputId": "eae92493-0eb4-4a99-953f-48b5229b811b"
      },
      "id": "NL0esNfmQBnS",
      "execution_count": 5,
      "outputs": [
        {
          "output_type": "execute_result",
          "data": {
            "text/plain": [
              "(tensor([[ 9,  5,  6,  ..., 12, 12,  2],\n",
              "         [14, 21, 21,  ...,  1,  7, 14],\n",
              "         [16,  7, 10,  ..., 11, 13,  5],\n",
              "         ...,\n",
              "         [ 1,  9,  2,  ...,  2,  1,  9],\n",
              "         [ 2,  1,  8,  ..., 20, 12,  5],\n",
              "         [ 3,  9,  2,  ..., 11,  7, 17]]),\n",
              " tensor([[ 5,  6,  2,  ..., 12,  2, 10],\n",
              "         [21, 21, 12,  ...,  7, 14, 10],\n",
              "         [ 7, 10,  2,  ..., 13,  5, 10],\n",
              "         ...,\n",
              "         [ 9,  2,  1,  ...,  1,  9,  2],\n",
              "         [ 1,  8, 14,  ..., 12,  5, 15],\n",
              "         [ 9,  2,  6,  ...,  7, 17,  6]]))"
            ]
          },
          "metadata": {},
          "execution_count": 5
        }
      ]
    },
    {
      "cell_type": "markdown",
      "id": "34a05672",
      "metadata": {
        "origin_pos": 6,
        "id": "34a05672"
      },
      "source": [
        "# **One-Hot Encoding**\n",
        "\n"
      ]
    },
    {
      "cell_type": "markdown",
      "source": [
        "- 각 토큰은 `train_iter`에 숫자 인덱스로 저장 되어있다. \n",
        "\n",
        "- 위 지수(인덱스)들을 직접 신경망에 넣으면 학습을 어렵게 만들기 때문에 토큰을 feature vector화 시킨다. \n",
        "\n",
        "- 여기서는 대표적인 방법으로 **One-Hot Encoding**을 사용한다."
      ],
      "metadata": {
        "id": "lcD8bUeLTpIz"
      },
      "id": "lcD8bUeLTpIz"
    },
    {
      "cell_type": "markdown",
      "source": [
        "- **One-Hot Encoding**은 단어 집합의 크기`len(vocab)`를 벡터의 차원으로 정하고, 표현할 단어의 인덱스에 값 1을 부여하고, 다른 인덱스에는 값 0을 부여하는 벡터 표현 방식이다."
      ],
      "metadata": {
        "id": "sE4eWbEDTg0I"
      },
      "id": "sE4eWbEDTg0I"
    },
    {
      "cell_type": "markdown",
      "source": [
        "- 토큰의 개수가 N = `len(vocab)`일때 토큰의 index는 0부터 N-1이다."
      ],
      "metadata": {
        "id": "SYyXgeFAXPl7"
      },
      "id": "SYyXgeFAXPl7"
    },
    {
      "cell_type": "markdown",
      "source": [
        "-  예시)\n",
        "\n",
        "```\n",
        "['나', '는', '자연어', '처리', '를', '배운다'] # 토큰의 개수 6개\n",
        "단어 집합 : {'나': 0, '는': 1, '자연어': 2, '처리': 3, '를': 4, '배운다': 5} # 인덱스는 0부터 5까지\n",
        "# '자연어'의 one-hot vector: \n",
        "[0, 0, 1, 0, 0, 0]\n",
        "```"
      ],
      "metadata": {
        "id": "jxcOum-HWgJw"
      },
      "id": "jxcOum-HWgJw"
    },
    {
      "cell_type": "code",
      "execution_count": 6,
      "id": "7d0f30b0",
      "metadata": {
        "execution": {
          "iopub.execute_input": "2022-07-10T03:29:43.082913Z",
          "iopub.status.busy": "2022-07-10T03:29:43.082062Z",
          "iopub.status.idle": "2022-07-10T03:29:43.111525Z",
          "shell.execute_reply": "2022-07-10T03:29:43.110311Z"
        },
        "origin_pos": 8,
        "tab": [
          "pytorch"
        ],
        "id": "7d0f30b0",
        "outputId": "d3ebcd04-613e-4ae6-c6aa-35927ecdf28d",
        "colab": {
          "base_uri": "https://localhost:8080/"
        }
      },
      "outputs": [
        {
          "output_type": "execute_result",
          "data": {
            "text/plain": [
              "tensor([[1, 0, 0, 0, 0, 0, 0, 0, 0, 0, 0, 0, 0, 0, 0, 0, 0, 0, 0, 0, 0, 0, 0, 0,\n",
              "         0, 0, 0, 0],\n",
              "        [0, 0, 1, 0, 0, 0, 0, 0, 0, 0, 0, 0, 0, 0, 0, 0, 0, 0, 0, 0, 0, 0, 0, 0,\n",
              "         0, 0, 0, 0]])"
            ]
          },
          "metadata": {},
          "execution_count": 6
        }
      ],
      "source": [
        "# 토큰 인덱스가 0 , 2인 one-hot 벡터\n",
        "F.one_hot(torch.tensor([0, 2]), len(vocab))                                     "
      ]
    },
    {
      "cell_type": "markdown",
      "source": [
        "- **minibatch**의 모양은 `(batch size, number of time steps)` 인데, `one_hot` 함수를 통해 `len(vocab)`가 추가되어 3차원이 된다.\n",
        "> `(batch size, number of time steps, len(vocab))`\n",
        "\n",
        "- imput을 transpose하면 time steps를 통해 시간 순차적으로 볼 수 있다."
      ],
      "metadata": {
        "id": "A1tjKk5CYwky"
      },
      "id": "A1tjKk5CYwky"
    },
    {
      "cell_type": "code",
      "execution_count": 7,
      "id": "b678e9cb",
      "metadata": {
        "execution": {
          "iopub.execute_input": "2022-07-10T03:29:43.116709Z",
          "iopub.status.busy": "2022-07-10T03:29:43.116430Z",
          "iopub.status.idle": "2022-07-10T03:29:43.123940Z",
          "shell.execute_reply": "2022-07-10T03:29:43.122758Z"
        },
        "origin_pos": 12,
        "tab": [
          "pytorch"
        ],
        "id": "b678e9cb",
        "outputId": "3a14661c-4f59-4a27-aa45-3d4111d88986",
        "colab": {
          "base_uri": "https://localhost:8080/"
        }
      },
      "outputs": [
        {
          "output_type": "execute_result",
          "data": {
            "text/plain": [
              "torch.Size([5, 2, 28])"
            ]
          },
          "metadata": {},
          "execution_count": 7
        }
      ],
      "source": [
        "# X: 2x5, X.T: 5x2(time steps, batch size)\n",
        "X = torch.arange(10).reshape((2, 5))\n",
        "F.one_hot(X.T, 28).shape"
      ]
    },
    {
      "cell_type": "markdown",
      "source": [
        "# 모델 파라미터 초기화(initialize)"
      ],
      "metadata": {
        "id": "Wu-aLGM_Sgi_"
      },
      "id": "Wu-aLGM_Sgi_"
    },
    {
      "cell_type": "markdown",
      "source": [
        "- hidden state의 개수인 `num_hiddens`는 조정가능한 하이퍼파라미터다.\n",
        "\n",
        "- 언어 모델 training시에 input과 output은 같은 vocabulary에서 나오기 때문에 차원의 값(vocabulary size)이 같다."
      ],
      "metadata": {
        "id": "8gKKvXWGSzq1"
      },
      "id": "8gKKvXWGSzq1"
    },
    {
      "cell_type": "code",
      "execution_count": 8,
      "id": "076feaae",
      "metadata": {
        "execution": {
          "iopub.execute_input": "2022-07-10T03:29:43.129195Z",
          "iopub.status.busy": "2022-07-10T03:29:43.128719Z",
          "iopub.status.idle": "2022-07-10T03:29:43.135350Z",
          "shell.execute_reply": "2022-07-10T03:29:43.134505Z"
        },
        "origin_pos": 16,
        "tab": [
          "pytorch"
        ],
        "id": "076feaae"
      },
      "outputs": [],
      "source": [
        "def get_params(vocab_size, num_hiddens, device):\n",
        "    num_inputs = num_outputs = vocab_size\n",
        "\n",
        "    def normal(shape):\n",
        "        return torch.randn(size=shape, device=device) * 0.01\n",
        "\n",
        "    # Hidden layer parameters\n",
        "    W_xh = normal((num_inputs, num_hiddens))\n",
        "    W_hh = normal((num_hiddens, num_hiddens))\n",
        "    b_h = torch.zeros(num_hiddens, device=device)\n",
        "    # Output layer parameters\n",
        "    W_hq = normal((num_hiddens, num_outputs))\n",
        "    b_q = torch.zeros(num_outputs, device=device)\n",
        "    # Attach gradients\n",
        "    params = [W_xh, W_hh, b_h, W_hq, b_q]\n",
        "    for param in params:\n",
        "        param.requires_grad_(True)\n",
        "    return params"
      ]
    },
    {
      "cell_type": "markdown",
      "source": [
        "# RNN Model"
      ],
      "metadata": {
        "id": "iaYPXSjJXuSU"
      },
      "id": "iaYPXSjJXuSU"
    },
    {
      "cell_type": "markdown",
      "source": [
        "## init_rnn_state"
      ],
      "metadata": {
        "id": "R754GId5hqsW"
      },
      "id": "R754GId5hqsW"
    },
    {
      "cell_type": "markdown",
      "source": [
        "- RNN Model을 정의하기위해 `init_rnn_state`함수를 사용한다.\n",
        "\n",
        "- **`init_rnn_state`함수**는 hidden state를 반환한다.\n",
        "\n",
        "  > 0으로 채워진 (batch_size, num_hidden) 모양의 텐서를 반환한다.\n",
        "\n",
        "- 튜플을 사용하면 hidden state에 여러 변수가 포함되어 있는 상황을 보다 쉽게 처리할 수 있다. (중복을 허용하지 않는 특성)"
      ],
      "metadata": {
        "id": "U3_8nJ-UXuto"
      },
      "id": "U3_8nJ-UXuto"
    },
    {
      "cell_type": "code",
      "execution_count": 9,
      "id": "18aa08d3",
      "metadata": {
        "execution": {
          "iopub.execute_input": "2022-07-10T03:29:43.140344Z",
          "iopub.status.busy": "2022-07-10T03:29:43.139929Z",
          "iopub.status.idle": "2022-07-10T03:29:43.143929Z",
          "shell.execute_reply": "2022-07-10T03:29:43.143111Z"
        },
        "origin_pos": 20,
        "tab": [
          "pytorch"
        ],
        "id": "18aa08d3"
      },
      "outputs": [],
      "source": [
        "def init_rnn_state(batch_size, num_hiddens, device):\n",
        "    return (torch.zeros((batch_size, num_hiddens), device=device), )\n",
        "    # 튜플 형태로 반환\n",
        "    # torch.zeros(행, 열)\n",
        "    # device: 반환된 텐서의 원하는 장치"
      ]
    },
    {
      "cell_type": "markdown",
      "source": [
        "## rnn"
      ],
      "metadata": {
        "id": "Yz6n3ShbhxzP"
      },
      "id": "Yz6n3ShbhxzP"
    },
    {
      "cell_type": "markdown",
      "source": [
        "- **`rnn` 함수**는 hidden state와 output의 계산 방법을 정의한다.\n",
        "\n",
        "- RNN Model은 input의 바깥쪽 차원(`num_steps`)을 통해 Mini batch의 hidden state `H`를 time step 마다 업데이트한다.\n",
        "\n",
        "- activation function은 tanh function를 사용한다.\n",
        "  > 원소가 실수형태로 균일하게 분포 되어있다면, tanh function의 평균값은 0이다."
      ],
      "metadata": {
        "id": "0SphCqOAfcvf"
      },
      "id": "0SphCqOAfcvf"
    },
    {
      "cell_type": "code",
      "execution_count": 10,
      "id": "21456dc6",
      "metadata": {
        "execution": {
          "iopub.execute_input": "2022-07-10T03:29:43.149082Z",
          "iopub.status.busy": "2022-07-10T03:29:43.148366Z",
          "iopub.status.idle": "2022-07-10T03:29:43.153606Z",
          "shell.execute_reply": "2022-07-10T03:29:43.152812Z"
        },
        "origin_pos": 24,
        "tab": [
          "pytorch"
        ],
        "id": "21456dc6"
      },
      "outputs": [],
      "source": [
        "def rnn(inputs, state, params):\n",
        "    # inputs의 구조: (num_steps, batch_size, vocab_size)\n",
        "    W_xh, W_hh, b_h, W_hq, b_q = params\n",
        "    H, = state \n",
        "    # state가 튜플 형식이서 첫번째 원소만 H로 가져오는데 state는 원소가 하나라 달라지는 것은 없음\n",
        "    outputs = []\n",
        "    # X의 구조: (batch_size, vocab_size)\n",
        "    for X in inputs:\n",
        "        H = torch.tanh(torch.mm(X, W_xh) + torch.mm(H, W_hh) + b_h)\n",
        "        Y = torch.mm(H, W_hq) + b_q\n",
        "        outputs.append(Y)\n",
        "    return torch.cat(outputs, dim=0), (H,) # 똑같이 튜플 형식으로 반환"
      ]
    },
    {
      "cell_type": "markdown",
      "source": [
        "## Class 생성"
      ],
      "metadata": {
        "id": "aJ0glIWrnrxI"
      },
      "id": "aJ0glIWrnrxI"
    },
    {
      "cell_type": "markdown",
      "source": [
        "- 필요한 모든 함수가 정의되면, 정의된 함수들을 가지고 RNN 모델에 대한 parameter들을 저장하는 클래스를 만든다.\n"
      ],
      "metadata": {
        "id": "WApYfjQnm-G2"
      },
      "id": "WApYfjQnm-G2"
    },
    {
      "cell_type": "code",
      "execution_count": 11,
      "id": "eff313ce",
      "metadata": {
        "execution": {
          "iopub.execute_input": "2022-07-10T03:29:43.157526Z",
          "iopub.status.busy": "2022-07-10T03:29:43.157218Z",
          "iopub.status.idle": "2022-07-10T03:29:43.163639Z",
          "shell.execute_reply": "2022-07-10T03:29:43.162780Z"
        },
        "origin_pos": 28,
        "tab": [
          "pytorch"
        ],
        "id": "eff313ce"
      },
      "outputs": [],
      "source": [
        "class RNNModelScratch:\n",
        "    \"\"\"A RNN Model implemented from scratch.\"\"\"\n",
        "    def __init__(self, vocab_size, num_hiddens, device,\n",
        "                 get_params, init_state, forward_fn):\n",
        "        self.vocab_size, self.num_hiddens = vocab_size, num_hiddens\n",
        "        self.params = get_params(vocab_size, num_hiddens, device)\n",
        "        self.init_state, self.forward_fn = init_state, forward_fn\n",
        "\n",
        "    def __call__(self, X, state):\n",
        "        X = F.one_hot(X.T, self.vocab_size).type(torch.float32)\n",
        "        return self.forward_fn(X, state, self.params)\n",
        "\n",
        "    def begin_state(self, batch_size, device):\n",
        "        return self.init_state(batch_size, self.num_hiddens, device)"
      ]
    },
    {
      "cell_type": "markdown",
      "source": [
        "## 검증"
      ],
      "metadata": {
        "id": "bqWU1mbhq_I8"
      },
      "id": "bqWU1mbhq_I8"
    },
    {
      "cell_type": "markdown",
      "source": [
        "- output들이 올바른 구조인지 확인\n",
        "\n",
        "> hidden state의 dimensionality가 변하지 않도록\n"
      ],
      "metadata": {
        "id": "cKBNQ5oMq9-T"
      },
      "id": "cKBNQ5oMq9-T"
    },
    {
      "cell_type": "code",
      "source": [
        "X"
      ],
      "metadata": {
        "colab": {
          "base_uri": "https://localhost:8080/"
        },
        "id": "ocBkTOhV0pPU",
        "outputId": "abac69e8-1576-4f62-9575-751057f04f85"
      },
      "id": "ocBkTOhV0pPU",
      "execution_count": 12,
      "outputs": [
        {
          "output_type": "execute_result",
          "data": {
            "text/plain": [
              "tensor([[0, 1, 2, 3, 4],\n",
              "        [5, 6, 7, 8, 9]])"
            ]
          },
          "metadata": {},
          "execution_count": 12
        }
      ]
    },
    {
      "cell_type": "code",
      "execution_count": 13,
      "id": "9da27259",
      "metadata": {
        "execution": {
          "iopub.execute_input": "2022-07-10T03:29:43.167004Z",
          "iopub.status.busy": "2022-07-10T03:29:43.166710Z",
          "iopub.status.idle": "2022-07-10T03:29:46.558186Z",
          "shell.execute_reply": "2022-07-10T03:29:46.557349Z"
        },
        "origin_pos": 32,
        "tab": [
          "pytorch"
        ],
        "id": "9da27259",
        "outputId": "a44611f2-c3ad-47a0-f5c2-c31f672e3eaf",
        "colab": {
          "base_uri": "https://localhost:8080/"
        }
      },
      "outputs": [
        {
          "output_type": "execute_result",
          "data": {
            "text/plain": [
              "(torch.Size([10, 28]), 1, torch.Size([2, 512]))"
            ]
          },
          "metadata": {},
          "execution_count": 13
        }
      ],
      "source": [
        "num_hiddens = 512\n",
        "net = RNNModelScratch(len(vocab), num_hiddens, d2l.try_gpu(), get_params,\n",
        "                      init_rnn_state, rnn)\n",
        "state = net.begin_state(X.shape[0], d2l.try_gpu())\n",
        "Y, new_state = net(X.to(d2l.try_gpu()), state)\n",
        "Y.shape, len(new_state), new_state[0].shape"
      ]
    },
    {
      "cell_type": "markdown",
      "source": [
        "- output 구조는 (number of time steps  ×  batch size, vocabulary size)인 반면, hidden state 구조는 그대로 유지된다는 것을 알 수 있다(batch size, number of hidden units)."
      ],
      "metadata": {
        "id": "GAK6BUGgr90g"
      },
      "id": "GAK6BUGgr90g"
    },
    {
      "cell_type": "markdown",
      "source": [
        "# Prediction"
      ],
      "metadata": {
        "id": "5ypjX1qdscWg"
      },
      "id": "5ypjX1qdscWg"
    },
    {
      "cell_type": "markdown",
      "source": [
        "- prediction 함수 정의\n",
        "\n",
        "  > 제공한 `prefix`(접두사) 다음에 올 문자를 생성하는 함수\n",
        "\n",
        "  > `prefix`: 여러 string이 포함된 문자열\n",
        "\n",
        "## 워밍업 Period\n",
        "\n",
        "- `prefix` 안의 시작 문자(beginnig character)를 반복시킬 때 output을 생성하지 않고 hidden state을 다음 step으로 전달한다.\n",
        "\n",
        "- 이 기간 동안 모델은 스스로 업데이트(예: hidden state 업데이트)하지만 예측을 하지 않는다.\n",
        "\n",
        "- 워밍업 기간이 지나면 hidden state는 일반적으로 처음에 initialized된 값보다 좋다."
      ],
      "metadata": {
        "id": "syFmDxExsjaW"
      },
      "id": "syFmDxExsjaW"
    },
    {
      "cell_type": "code",
      "execution_count": 14,
      "id": "c5877a3a",
      "metadata": {
        "execution": {
          "iopub.execute_input": "2022-07-10T03:29:46.562052Z",
          "iopub.status.busy": "2022-07-10T03:29:46.561457Z",
          "iopub.status.idle": "2022-07-10T03:29:46.568027Z",
          "shell.execute_reply": "2022-07-10T03:29:46.567192Z"
        },
        "origin_pos": 36,
        "tab": [
          "pytorch"
        ],
        "id": "c5877a3a"
      },
      "outputs": [],
      "source": [
        "def predict_ch8(prefix, num_preds, net, vocab, device):\n",
        "    \"\"\"Generate new characters following the `prefix`.\"\"\"\n",
        "    state = net.begin_state(batch_size=1, device=device)\n",
        "    outputs = [vocab[prefix[0]]]\n",
        "    get_input = lambda: torch.tensor([outputs[-1]], device=device).reshape((1, 1))\n",
        "    for y in prefix[1:]:  # Warm-up period\n",
        "        _, state = net(get_input(), state)\n",
        "        outputs.append(vocab[y])\n",
        "    for _ in range(num_preds):  # Predict `num_preds` steps\n",
        "        y, state = net(get_input(), state)\n",
        "        outputs.append(int(y.argmax(dim=1).reshape(1)))\n",
        "    return ''.join([vocab.idx_to_token[i] for i in outputs])"
      ]
    },
    {
      "cell_type": "markdown",
      "source": [
        "## test `predict_ch8`\n",
        "- `prefix`를 `time traveller`로 지정하고 10자를 생성한다.\n",
        "- network을 훈련시키지 않았기 때문에 nonsensical prediction을 함"
      ],
      "metadata": {
        "id": "6BEbwwap0LUZ"
      },
      "id": "6BEbwwap0LUZ"
    },
    {
      "cell_type": "code",
      "execution_count": 15,
      "id": "2c122d66",
      "metadata": {
        "execution": {
          "iopub.execute_input": "2022-07-10T03:29:46.571772Z",
          "iopub.status.busy": "2022-07-10T03:29:46.571181Z",
          "iopub.status.idle": "2022-07-10T03:29:46.585965Z",
          "shell.execute_reply": "2022-07-10T03:29:46.585173Z"
        },
        "origin_pos": 39,
        "tab": [
          "pytorch"
        ],
        "id": "2c122d66",
        "outputId": "d030ee15-5e80-4799-ff0f-9a3b94e4a13c",
        "colab": {
          "base_uri": "https://localhost:8080/",
          "height": 35
        }
      },
      "outputs": [
        {
          "output_type": "execute_result",
          "data": {
            "text/plain": [
              "'time traveller rti qpbxji'"
            ],
            "application/vnd.google.colaboratory.intrinsic+json": {
              "type": "string"
            }
          },
          "metadata": {},
          "execution_count": 15
        }
      ],
      "source": [
        "predict_ch8('time traveller ', 10, net, vocab, d2l.try_gpu())"
      ]
    },
    {
      "cell_type": "markdown",
      "source": [
        "# Gradient Clipping"
      ],
      "metadata": {
        "id": "ZlUNyUsBSVGC"
      },
      "id": "ZlUNyUsBSVGC"
    },
    {
      "cell_type": "markdown",
      "source": [
        "- length $T$의 sequence에 대해, iteration 안에서 time steps $T$에 대한 gradient를 계산하고, 결과로 backpropagation 동안 $\\mathcal{O}(T)$의 행렬 곱에 연결된다.\n",
        "\n",
        "- 4.8장에 나오는 numerical stability에서와 같이, $T$가 큰 값일때 gradient가 eploding 되거나 vanishing 될 수 있다.\n",
        "\n",
        "- 따라서, RNN 모델은 training을 stabilize하기 위해 추가적인 작업이 필요하다."
      ],
      "metadata": {
        "id": "Bberm496SU3o"
      },
      "id": "Bberm496SU3o"
    },
    {
      "cell_type": "markdown",
      "source": [
        "- optimaization을 진행할때, minibatch의 음의 gradient $\\mathbf{g}$ 방향으로 model의 parameter(ex: vector $\\mathbf{x}$)에 대한 업데이트\b를 진행한다.\n",
        "\n",
        "- 예로, $\\eta > 0$을 학습 속도로 하여 한 번 반복할때 $\\mathbf{x}$를 $\\mathbf{x} - \\eta \\mathbf{g}$로 업데이트하며, objective function $f$가 *Lipschitz continuous* 함수 $L$로 잘 동작한다고 가정한다.\n",
        "\n",
        "  > *Lipschitz continuous*: 립시츠 연속 함수는 두 점 사이의 거리를 일정 비 이상으로 증가시키지 않는 함수다.\n",
        "\n",
        "- 즉\u001d, 모든 $\\mathbf{x}$와 $\\mathbf{y}$에 대해 아래와 같다고 할 수 있다.\n",
        "$$|f(\\mathbf{x}) - f(\\mathbf{y})| \\leq L \\|\\mathbf{x} - \\mathbf{y}\\|$$"
      ],
      "metadata": {
        "id": "40hgT9-KWA1I"
      },
      "id": "40hgT9-KWA1I"
    },
    {
      "cell_type": "markdown",
      "source": [
        "- 이 경우, 만약 우리가 parameter 벡터를 $\\eta \\mathbf{g}$으로 업데이트한다면, \n",
        "$$|f(\\mathbf{x}) - f(\\mathbf{x} - \\eta\\mathbf{g})| \\leq L \\eta\\|\\mathbf{g}\\|$$\n"
      ],
      "metadata": {
        "id": "tuigsHHcekWg"
      },
      "id": "tuigsHHcekWg"
    },
    {
      "cell_type": "markdown",
      "source": [
        "- $L \\eta \\|\\mathbf{g}\\|$ 이상의 변화를 관찰하지 않는 것을 볼 수 있다.\n",
        "\n",
        "- 결론적으로, 잘못된 방향으로 가는 것을 막지만, progress의 속도도 제한한다.\n",
        "\n",
        "- 때때로 gradient가 상당히 클 수 있고 optimization 알고리즘이 수렴되지 않을 수 있다.\n",
        "\n",
        "-  대부분의 문제는 learning rate을 줄임으로 해결할 수 있지만, 큰 gradient를 거의 얻지 못한다면 lr를 줄이는것이 해결책이 될 수 없다."
      ],
      "metadata": {
        "id": "WZR6nib7gpVV"
      },
      "id": "WZR6nib7gpVV"
    },
    {
      "cell_type": "markdown",
      "source": [
        "- 대표적인 대안은 구의 반지름 $\\theta$에 투영하여 gradient $\\mathbf{g}$를 clipping하는 것이다.\n",
        "\n",
        "**$$\\mathbf{g} \\leftarrow \\min\\left(1, \\frac{\\theta}{\\|\\mathbf{g}\\|}\\right) \\mathbf{g}.$$**\n",
        "\n",
        "- clipping을 통해 gradient norm이 $\\theta$를 초과하지 않으며, 업데이트된 gradient가 $\\mathbf{g}$의 기존 방향과 일치한다.\n",
        "\n",
        "- 또한, minibatch가 parameter에 미치는 영향을 제한한다.\n",
        "\n",
        "- gradient clipping은 gradient exploding을 방지하는 좋은 방법이다."
      ],
      "metadata": {
        "id": "DZIKI1YVemtb"
      },
      "id": "DZIKI1YVemtb"
    },
    {
      "cell_type": "code",
      "execution_count": 16,
      "id": "9472f463",
      "metadata": {
        "execution": {
          "iopub.execute_input": "2022-07-10T03:29:46.589255Z",
          "iopub.status.busy": "2022-07-10T03:29:46.588967Z",
          "iopub.status.idle": "2022-07-10T03:29:46.594357Z",
          "shell.execute_reply": "2022-07-10T03:29:46.593580Z"
        },
        "origin_pos": 43,
        "tab": [
          "pytorch"
        ],
        "id": "9472f463"
      },
      "outputs": [],
      "source": [
        "def grad_clipping(net, theta):\n",
        "    \"\"\"Clip the gradient.\"\"\"\n",
        "    if isinstance(net, nn.Module):\n",
        "        params = [p for p in net.parameters() if p.requires_grad]\n",
        "    else:\n",
        "        params = net.params\n",
        "    norm = torch.sqrt(sum(torch.sum((p.grad ** 2)) for p in params))\n",
        "    if norm > theta:\n",
        "        for param in params:\n",
        "            param.grad[:] *= theta / norm"
      ]
    },
    {
      "cell_type": "markdown",
      "source": [
        "# Training"
      ],
      "metadata": {
        "id": "9IioKxO6oDWN"
      },
      "id": "9IioKxO6oDWN"
    },
    {
      "cell_type": "markdown",
      "source": [
        "- 모델을 훈련하기 전에 one epoch으로 모델을 훈련시키는 함수를 정의한다.\n",
        "\n",
        "1. sequential data(random sampling 및 sequential partitioning)에 대한 다른 샘플링 방법은 hidden state의 initialization에 차이를 초래한다.\n",
        "\n",
        "2. 모델 parameter들을 업데이트하기 전에 gradient를 clipping한다. 이를 통해 training process 중 특정 지점에서 gradient가 blow up하더라도 모델이 나뉘지(diverge) 않도록 한다.\n",
        "\n",
        "3. 우리는 모델을 평가하기 위해 perplexity를 사용한다. 8.4.4 섹션에서 논의한 바와 같이, perplexity는 서로 다른 길이의 시퀀스를 비교할 수 있도록 보장한다.\n",
        "\n",
        "\n",
        "- sequential partitioning할때 epoch의 시작에서만 hidden state를 initialize한다. \n",
        "\n",
        "- 다음 subsequence는 현재 subsequence와 이웃해 있기에, 현재 minibatch의 hidden state는 다음 minibatch 시작시 hidden state를 initialize할때 사용한다.\n",
        "\n",
        "- 위 방식을 통해 hidden state에 저장된 sequence의 이전 정보는 이웃한 sequence를 통해 전달될 수 있다."
      ],
      "metadata": {
        "id": "s2r7MivboDPF"
      },
      "id": "s2r7MivboDPF"
    },
    {
      "cell_type": "markdown",
      "source": [
        "- random sampling을 사용할 때 각 subsequence들이 \brandom 위치로 샘플링되므로 epoch마다 hidden state를 초기화해야 한다."
      ],
      "metadata": {
        "id": "DPeFZRB7tcRG"
      },
      "id": "DPeFZRB7tcRG"
    },
    {
      "cell_type": "code",
      "execution_count": 17,
      "id": "3a9dc5e1",
      "metadata": {
        "execution": {
          "iopub.execute_input": "2022-07-10T03:29:46.597951Z",
          "iopub.status.busy": "2022-07-10T03:29:46.597377Z",
          "iopub.status.idle": "2022-07-10T03:29:46.605855Z",
          "shell.execute_reply": "2022-07-10T03:29:46.605044Z"
        },
        "origin_pos": 47,
        "tab": [
          "pytorch"
        ],
        "id": "3a9dc5e1"
      },
      "outputs": [],
      "source": [
        "def train_epoch_ch8(net, train_iter, loss, updater, device, use_random_iter):\n",
        "    \"\"\"Train a net within one epoch (defined in Chapter 8).\"\"\"\n",
        "    state, timer = None, d2l.Timer()\n",
        "    metric = d2l.Accumulator(2)  # Sum of training loss, no. of tokens\n",
        "    for X, Y in train_iter:\n",
        "        if state is None or use_random_iter:\n",
        "            # Initialize `state` when either it is the first iteration or\n",
        "            # using random sampling\n",
        "            state = net.begin_state(batch_size=X.shape[0], device=device)\n",
        "        else:\n",
        "            if isinstance(net, nn.Module) and not isinstance(state, tuple):\n",
        "                # `state` is a tensor for `nn.GRU`\n",
        "                state.detach_()\n",
        "            else:\n",
        "                # `state` is a tuple of tensors for `nn.LSTM` and\n",
        "                # for our custom scratch implementation\n",
        "                for s in state:\n",
        "                    s.detach_()\n",
        "        y = Y.T.reshape(-1)\n",
        "        X, y = X.to(device), y.to(device)\n",
        "        y_hat, state = net(X, state)\n",
        "        l = loss(y_hat, y.long()).mean()\n",
        "        if isinstance(updater, torch.optim.Optimizer):\n",
        "            updater.zero_grad()\n",
        "            l.backward()\n",
        "            grad_clipping(net, 1)\n",
        "            updater.step()\n",
        "        else:\n",
        "            l.backward()\n",
        "            grad_clipping(net, 1)\n",
        "            # Since the `mean` function has been invoked\n",
        "            updater(batch_size=1)\n",
        "        metric.add(l * y.numel(), y.numel())\n",
        "    return math.exp(metric[0] / metric[1]), metric[1] / timer.stop()"
      ]
    },
    {
      "cell_type": "markdown",
      "id": "ed1b2790",
      "metadata": {
        "origin_pos": 49,
        "id": "ed1b2790"
      },
      "source": [
        "교육 기능은 고급 API를 사용하여 구현된 RNN 모델을 지원한다.\n"
      ]
    },
    {
      "cell_type": "code",
      "execution_count": 18,
      "id": "290d15c6",
      "metadata": {
        "execution": {
          "iopub.execute_input": "2022-07-10T03:29:46.609526Z",
          "iopub.status.busy": "2022-07-10T03:29:46.608983Z",
          "iopub.status.idle": "2022-07-10T03:29:46.615968Z",
          "shell.execute_reply": "2022-07-10T03:29:46.615174Z"
        },
        "origin_pos": 51,
        "tab": [
          "pytorch"
        ],
        "id": "290d15c6"
      },
      "outputs": [],
      "source": [
        "def train_ch8(net, train_iter, vocab, lr, num_epochs, device,\n",
        "              use_random_iter=False):\n",
        "    \"\"\"Train a model (defined in Chapter 8).\"\"\"\n",
        "    loss = nn.CrossEntropyLoss()\n",
        "    animator = d2l.Animator(xlabel='epoch', ylabel='perplexity',\n",
        "                            legend=['train'], xlim=[10, num_epochs])\n",
        "    # Initialize\n",
        "    if isinstance(net, nn.Module):\n",
        "        updater = torch.optim.SGD(net.parameters(), lr)\n",
        "    else:\n",
        "        updater = lambda batch_size: d2l.sgd(net.params, lr, batch_size)\n",
        "    predict = lambda prefix: predict_ch8(prefix, 50, net, vocab, device)\n",
        "    # Train and predict\n",
        "    for epoch in range(num_epochs):\n",
        "        ppl, speed = train_epoch_ch8(\n",
        "            net, train_iter, loss, updater, device, use_random_iter)\n",
        "        if (epoch + 1) % 10 == 0:\n",
        "            print(predict('time traveller'))\n",
        "            animator.add(epoch + 1, [ppl])\n",
        "    print(f'perplexity {ppl:.1f}, {speed:.1f} tokens/sec on {str(device)}')\n",
        "    print(predict('time traveller'))\n",
        "    print(predict('traveller'))"
      ]
    },
    {
      "cell_type": "markdown",
      "id": "ad1c1498",
      "metadata": {
        "origin_pos": 53,
        "id": "ad1c1498"
      },
      "source": [
        "## RNN 모델 훈련 \n",
        "\n",
        "- data set에서 10000 개의 토큰만 사용하기 때문에 모델은 더 잘 수렴하기 위해 더 많은 epoch가 필요하다."
      ]
    },
    {
      "cell_type": "code",
      "execution_count": 19,
      "id": "c50f2148",
      "metadata": {
        "execution": {
          "iopub.execute_input": "2022-07-10T03:29:46.619202Z",
          "iopub.status.busy": "2022-07-10T03:29:46.618886Z",
          "iopub.status.idle": "2022-07-10T03:31:00.353217Z",
          "shell.execute_reply": "2022-07-10T03:31:00.352221Z"
        },
        "origin_pos": 54,
        "tab": [
          "pytorch"
        ],
        "id": "c50f2148",
        "outputId": "0e86d78c-503e-4191-85e6-34d4cdd759da",
        "colab": {
          "base_uri": "https://localhost:8080/",
          "height": 314
        }
      },
      "outputs": [
        {
          "output_type": "stream",
          "name": "stdout",
          "text": [
            "perplexity 1.0, 19032.0 tokens/sec on cpu\n",
            "time travelleryou can show black is white by argument said filby\n",
            "travelleryou can show black is white by argument said filby\n"
          ]
        },
        {
          "output_type": "display_data",
          "data": {
            "text/plain": [
              "<Figure size 252x180 with 1 Axes>"
            ],
            "image/svg+xml": "<?xml version=\"1.0\" encoding=\"utf-8\" standalone=\"no\"?>\n<!DOCTYPE svg PUBLIC \"-//W3C//DTD SVG 1.1//EN\"\n  \"http://www.w3.org/Graphics/SVG/1.1/DTD/svg11.dtd\">\n<svg xmlns:xlink=\"http://www.w3.org/1999/xlink\" width=\"262.1875pt\" height=\"180.65625pt\" viewBox=\"0 0 262.1875 180.65625\" xmlns=\"http://www.w3.org/2000/svg\" version=\"1.1\">\n <metadata>\n  <rdf:RDF xmlns:dc=\"http://purl.org/dc/elements/1.1/\" xmlns:cc=\"http://creativecommons.org/ns#\" xmlns:rdf=\"http://www.w3.org/1999/02/22-rdf-syntax-ns#\">\n   <cc:Work>\n    <dc:type rdf:resource=\"http://purl.org/dc/dcmitype/StillImage\"/>\n    <dc:date>2022-07-14T15:32:04.955838</dc:date>\n    <dc:format>image/svg+xml</dc:format>\n    <dc:creator>\n     <cc:Agent>\n      <dc:title>Matplotlib v3.5.1, https://matplotlib.org/</dc:title>\n     </cc:Agent>\n    </dc:creator>\n   </cc:Work>\n  </rdf:RDF>\n </metadata>\n <defs>\n  <style type=\"text/css\">*{stroke-linejoin: round; stroke-linecap: butt}</style>\n </defs>\n <g id=\"figure_1\">\n  <g id=\"patch_1\">\n   <path d=\"M 0 180.65625 \nL 262.1875 180.65625 \nL 262.1875 0 \nL 0 0 \nL 0 180.65625 \nz\n\" style=\"fill: none\"/>\n  </g>\n  <g id=\"axes_1\">\n   <g id=\"patch_2\">\n    <path d=\"M 50.14375 143.1 \nL 245.44375 143.1 \nL 245.44375 7.2 \nL 50.14375 7.2 \nz\n\" style=\"fill: #ffffff\"/>\n   </g>\n   <g id=\"matplotlib.axis_1\">\n    <g id=\"xtick_1\">\n     <g id=\"line2d_1\">\n      <path d=\"M 86.015179 143.1 \nL 86.015179 7.2 \n\" clip-path=\"url(#p5d043b0390)\" style=\"fill: none; stroke: #b0b0b0; stroke-width: 0.8; stroke-linecap: square\"/>\n     </g>\n     <g id=\"line2d_2\">\n      <defs>\n       <path id=\"mf5c79dfe2d\" d=\"M 0 0 \nL 0 3.5 \n\" style=\"stroke: #000000; stroke-width: 0.8\"/>\n      </defs>\n      <g>\n       <use xlink:href=\"#mf5c79dfe2d\" x=\"86.015179\" y=\"143.1\" style=\"stroke: #000000; stroke-width: 0.8\"/>\n      </g>\n     </g>\n     <g id=\"text_1\">\n      <!-- 100 -->\n      <g transform=\"translate(76.471429 157.698438)scale(0.1 -0.1)\">\n       <defs>\n        <path id=\"DejaVuSans-31\" d=\"M 794 531 \nL 1825 531 \nL 1825 4091 \nL 703 3866 \nL 703 4441 \nL 1819 4666 \nL 2450 4666 \nL 2450 531 \nL 3481 531 \nL 3481 0 \nL 794 0 \nL 794 531 \nz\n\" transform=\"scale(0.015625)\"/>\n        <path id=\"DejaVuSans-30\" d=\"M 2034 4250 \nQ 1547 4250 1301 3770 \nQ 1056 3291 1056 2328 \nQ 1056 1369 1301 889 \nQ 1547 409 2034 409 \nQ 2525 409 2770 889 \nQ 3016 1369 3016 2328 \nQ 3016 3291 2770 3770 \nQ 2525 4250 2034 4250 \nz\nM 2034 4750 \nQ 2819 4750 3233 4129 \nQ 3647 3509 3647 2328 \nQ 3647 1150 3233 529 \nQ 2819 -91 2034 -91 \nQ 1250 -91 836 529 \nQ 422 1150 422 2328 \nQ 422 3509 836 4129 \nQ 1250 4750 2034 4750 \nz\n\" transform=\"scale(0.015625)\"/>\n       </defs>\n       <use xlink:href=\"#DejaVuSans-31\"/>\n       <use xlink:href=\"#DejaVuSans-30\" x=\"63.623047\"/>\n       <use xlink:href=\"#DejaVuSans-30\" x=\"127.246094\"/>\n      </g>\n     </g>\n    </g>\n    <g id=\"xtick_2\">\n     <g id=\"line2d_3\">\n      <path d=\"M 125.872321 143.1 \nL 125.872321 7.2 \n\" clip-path=\"url(#p5d043b0390)\" style=\"fill: none; stroke: #b0b0b0; stroke-width: 0.8; stroke-linecap: square\"/>\n     </g>\n     <g id=\"line2d_4\">\n      <g>\n       <use xlink:href=\"#mf5c79dfe2d\" x=\"125.872321\" y=\"143.1\" style=\"stroke: #000000; stroke-width: 0.8\"/>\n      </g>\n     </g>\n     <g id=\"text_2\">\n      <!-- 200 -->\n      <g transform=\"translate(116.328571 157.698438)scale(0.1 -0.1)\">\n       <defs>\n        <path id=\"DejaVuSans-32\" d=\"M 1228 531 \nL 3431 531 \nL 3431 0 \nL 469 0 \nL 469 531 \nQ 828 903 1448 1529 \nQ 2069 2156 2228 2338 \nQ 2531 2678 2651 2914 \nQ 2772 3150 2772 3378 \nQ 2772 3750 2511 3984 \nQ 2250 4219 1831 4219 \nQ 1534 4219 1204 4116 \nQ 875 4013 500 3803 \nL 500 4441 \nQ 881 4594 1212 4672 \nQ 1544 4750 1819 4750 \nQ 2544 4750 2975 4387 \nQ 3406 4025 3406 3419 \nQ 3406 3131 3298 2873 \nQ 3191 2616 2906 2266 \nQ 2828 2175 2409 1742 \nQ 1991 1309 1228 531 \nz\n\" transform=\"scale(0.015625)\"/>\n       </defs>\n       <use xlink:href=\"#DejaVuSans-32\"/>\n       <use xlink:href=\"#DejaVuSans-30\" x=\"63.623047\"/>\n       <use xlink:href=\"#DejaVuSans-30\" x=\"127.246094\"/>\n      </g>\n     </g>\n    </g>\n    <g id=\"xtick_3\">\n     <g id=\"line2d_5\">\n      <path d=\"M 165.729464 143.1 \nL 165.729464 7.2 \n\" clip-path=\"url(#p5d043b0390)\" style=\"fill: none; stroke: #b0b0b0; stroke-width: 0.8; stroke-linecap: square\"/>\n     </g>\n     <g id=\"line2d_6\">\n      <g>\n       <use xlink:href=\"#mf5c79dfe2d\" x=\"165.729464\" y=\"143.1\" style=\"stroke: #000000; stroke-width: 0.8\"/>\n      </g>\n     </g>\n     <g id=\"text_3\">\n      <!-- 300 -->\n      <g transform=\"translate(156.185714 157.698438)scale(0.1 -0.1)\">\n       <defs>\n        <path id=\"DejaVuSans-33\" d=\"M 2597 2516 \nQ 3050 2419 3304 2112 \nQ 3559 1806 3559 1356 \nQ 3559 666 3084 287 \nQ 2609 -91 1734 -91 \nQ 1441 -91 1130 -33 \nQ 819 25 488 141 \nL 488 750 \nQ 750 597 1062 519 \nQ 1375 441 1716 441 \nQ 2309 441 2620 675 \nQ 2931 909 2931 1356 \nQ 2931 1769 2642 2001 \nQ 2353 2234 1838 2234 \nL 1294 2234 \nL 1294 2753 \nL 1863 2753 \nQ 2328 2753 2575 2939 \nQ 2822 3125 2822 3475 \nQ 2822 3834 2567 4026 \nQ 2313 4219 1838 4219 \nQ 1578 4219 1281 4162 \nQ 984 4106 628 3988 \nL 628 4550 \nQ 988 4650 1302 4700 \nQ 1616 4750 1894 4750 \nQ 2613 4750 3031 4423 \nQ 3450 4097 3450 3541 \nQ 3450 3153 3228 2886 \nQ 3006 2619 2597 2516 \nz\n\" transform=\"scale(0.015625)\"/>\n       </defs>\n       <use xlink:href=\"#DejaVuSans-33\"/>\n       <use xlink:href=\"#DejaVuSans-30\" x=\"63.623047\"/>\n       <use xlink:href=\"#DejaVuSans-30\" x=\"127.246094\"/>\n      </g>\n     </g>\n    </g>\n    <g id=\"xtick_4\">\n     <g id=\"line2d_7\">\n      <path d=\"M 205.586607 143.1 \nL 205.586607 7.2 \n\" clip-path=\"url(#p5d043b0390)\" style=\"fill: none; stroke: #b0b0b0; stroke-width: 0.8; stroke-linecap: square\"/>\n     </g>\n     <g id=\"line2d_8\">\n      <g>\n       <use xlink:href=\"#mf5c79dfe2d\" x=\"205.586607\" y=\"143.1\" style=\"stroke: #000000; stroke-width: 0.8\"/>\n      </g>\n     </g>\n     <g id=\"text_4\">\n      <!-- 400 -->\n      <g transform=\"translate(196.042857 157.698438)scale(0.1 -0.1)\">\n       <defs>\n        <path id=\"DejaVuSans-34\" d=\"M 2419 4116 \nL 825 1625 \nL 2419 1625 \nL 2419 4116 \nz\nM 2253 4666 \nL 3047 4666 \nL 3047 1625 \nL 3713 1625 \nL 3713 1100 \nL 3047 1100 \nL 3047 0 \nL 2419 0 \nL 2419 1100 \nL 313 1100 \nL 313 1709 \nL 2253 4666 \nz\n\" transform=\"scale(0.015625)\"/>\n       </defs>\n       <use xlink:href=\"#DejaVuSans-34\"/>\n       <use xlink:href=\"#DejaVuSans-30\" x=\"63.623047\"/>\n       <use xlink:href=\"#DejaVuSans-30\" x=\"127.246094\"/>\n      </g>\n     </g>\n    </g>\n    <g id=\"xtick_5\">\n     <g id=\"line2d_9\">\n      <path d=\"M 245.44375 143.1 \nL 245.44375 7.2 \n\" clip-path=\"url(#p5d043b0390)\" style=\"fill: none; stroke: #b0b0b0; stroke-width: 0.8; stroke-linecap: square\"/>\n     </g>\n     <g id=\"line2d_10\">\n      <g>\n       <use xlink:href=\"#mf5c79dfe2d\" x=\"245.44375\" y=\"143.1\" style=\"stroke: #000000; stroke-width: 0.8\"/>\n      </g>\n     </g>\n     <g id=\"text_5\">\n      <!-- 500 -->\n      <g transform=\"translate(235.9 157.698438)scale(0.1 -0.1)\">\n       <defs>\n        <path id=\"DejaVuSans-35\" d=\"M 691 4666 \nL 3169 4666 \nL 3169 4134 \nL 1269 4134 \nL 1269 2991 \nQ 1406 3038 1543 3061 \nQ 1681 3084 1819 3084 \nQ 2600 3084 3056 2656 \nQ 3513 2228 3513 1497 \nQ 3513 744 3044 326 \nQ 2575 -91 1722 -91 \nQ 1428 -91 1123 -41 \nQ 819 9 494 109 \nL 494 744 \nQ 775 591 1075 516 \nQ 1375 441 1709 441 \nQ 2250 441 2565 725 \nQ 2881 1009 2881 1497 \nQ 2881 1984 2565 2268 \nQ 2250 2553 1709 2553 \nQ 1456 2553 1204 2497 \nQ 953 2441 691 2322 \nL 691 4666 \nz\n\" transform=\"scale(0.015625)\"/>\n       </defs>\n       <use xlink:href=\"#DejaVuSans-35\"/>\n       <use xlink:href=\"#DejaVuSans-30\" x=\"63.623047\"/>\n       <use xlink:href=\"#DejaVuSans-30\" x=\"127.246094\"/>\n      </g>\n     </g>\n    </g>\n    <g id=\"text_6\">\n     <!-- epoch -->\n     <g transform=\"translate(132.565625 171.376563)scale(0.1 -0.1)\">\n      <defs>\n       <path id=\"DejaVuSans-65\" d=\"M 3597 1894 \nL 3597 1613 \nL 953 1613 \nQ 991 1019 1311 708 \nQ 1631 397 2203 397 \nQ 2534 397 2845 478 \nQ 3156 559 3463 722 \nL 3463 178 \nQ 3153 47 2828 -22 \nQ 2503 -91 2169 -91 \nQ 1331 -91 842 396 \nQ 353 884 353 1716 \nQ 353 2575 817 3079 \nQ 1281 3584 2069 3584 \nQ 2775 3584 3186 3129 \nQ 3597 2675 3597 1894 \nz\nM 3022 2063 \nQ 3016 2534 2758 2815 \nQ 2500 3097 2075 3097 \nQ 1594 3097 1305 2825 \nQ 1016 2553 972 2059 \nL 3022 2063 \nz\n\" transform=\"scale(0.015625)\"/>\n       <path id=\"DejaVuSans-70\" d=\"M 1159 525 \nL 1159 -1331 \nL 581 -1331 \nL 581 3500 \nL 1159 3500 \nL 1159 2969 \nQ 1341 3281 1617 3432 \nQ 1894 3584 2278 3584 \nQ 2916 3584 3314 3078 \nQ 3713 2572 3713 1747 \nQ 3713 922 3314 415 \nQ 2916 -91 2278 -91 \nQ 1894 -91 1617 61 \nQ 1341 213 1159 525 \nz\nM 3116 1747 \nQ 3116 2381 2855 2742 \nQ 2594 3103 2138 3103 \nQ 1681 3103 1420 2742 \nQ 1159 2381 1159 1747 \nQ 1159 1113 1420 752 \nQ 1681 391 2138 391 \nQ 2594 391 2855 752 \nQ 3116 1113 3116 1747 \nz\n\" transform=\"scale(0.015625)\"/>\n       <path id=\"DejaVuSans-6f\" d=\"M 1959 3097 \nQ 1497 3097 1228 2736 \nQ 959 2375 959 1747 \nQ 959 1119 1226 758 \nQ 1494 397 1959 397 \nQ 2419 397 2687 759 \nQ 2956 1122 2956 1747 \nQ 2956 2369 2687 2733 \nQ 2419 3097 1959 3097 \nz\nM 1959 3584 \nQ 2709 3584 3137 3096 \nQ 3566 2609 3566 1747 \nQ 3566 888 3137 398 \nQ 2709 -91 1959 -91 \nQ 1206 -91 779 398 \nQ 353 888 353 1747 \nQ 353 2609 779 3096 \nQ 1206 3584 1959 3584 \nz\n\" transform=\"scale(0.015625)\"/>\n       <path id=\"DejaVuSans-63\" d=\"M 3122 3366 \nL 3122 2828 \nQ 2878 2963 2633 3030 \nQ 2388 3097 2138 3097 \nQ 1578 3097 1268 2742 \nQ 959 2388 959 1747 \nQ 959 1106 1268 751 \nQ 1578 397 2138 397 \nQ 2388 397 2633 464 \nQ 2878 531 3122 666 \nL 3122 134 \nQ 2881 22 2623 -34 \nQ 2366 -91 2075 -91 \nQ 1284 -91 818 406 \nQ 353 903 353 1747 \nQ 353 2603 823 3093 \nQ 1294 3584 2113 3584 \nQ 2378 3584 2631 3529 \nQ 2884 3475 3122 3366 \nz\n\" transform=\"scale(0.015625)\"/>\n       <path id=\"DejaVuSans-68\" d=\"M 3513 2113 \nL 3513 0 \nL 2938 0 \nL 2938 2094 \nQ 2938 2591 2744 2837 \nQ 2550 3084 2163 3084 \nQ 1697 3084 1428 2787 \nQ 1159 2491 1159 1978 \nL 1159 0 \nL 581 0 \nL 581 4863 \nL 1159 4863 \nL 1159 2956 \nQ 1366 3272 1645 3428 \nQ 1925 3584 2291 3584 \nQ 2894 3584 3203 3211 \nQ 3513 2838 3513 2113 \nz\n\" transform=\"scale(0.015625)\"/>\n      </defs>\n      <use xlink:href=\"#DejaVuSans-65\"/>\n      <use xlink:href=\"#DejaVuSans-70\" x=\"61.523438\"/>\n      <use xlink:href=\"#DejaVuSans-6f\" x=\"125\"/>\n      <use xlink:href=\"#DejaVuSans-63\" x=\"186.181641\"/>\n      <use xlink:href=\"#DejaVuSans-68\" x=\"241.162109\"/>\n     </g>\n    </g>\n   </g>\n   <g id=\"matplotlib.axis_2\">\n    <g id=\"ytick_1\">\n     <g id=\"line2d_11\">\n      <path d=\"M 50.14375 122.401775 \nL 245.44375 122.401775 \n\" clip-path=\"url(#p5d043b0390)\" style=\"fill: none; stroke: #b0b0b0; stroke-width: 0.8; stroke-linecap: square\"/>\n     </g>\n     <g id=\"line2d_12\">\n      <defs>\n       <path id=\"m3cdf5ecdea\" d=\"M 0 0 \nL -3.5 0 \n\" style=\"stroke: #000000; stroke-width: 0.8\"/>\n      </defs>\n      <g>\n       <use xlink:href=\"#m3cdf5ecdea\" x=\"50.14375\" y=\"122.401775\" style=\"stroke: #000000; stroke-width: 0.8\"/>\n      </g>\n     </g>\n     <g id=\"text_7\">\n      <!-- 2.5 -->\n      <g transform=\"translate(27.240625 126.200994)scale(0.1 -0.1)\">\n       <defs>\n        <path id=\"DejaVuSans-2e\" d=\"M 684 794 \nL 1344 794 \nL 1344 0 \nL 684 0 \nL 684 794 \nz\n\" transform=\"scale(0.015625)\"/>\n       </defs>\n       <use xlink:href=\"#DejaVuSans-32\"/>\n       <use xlink:href=\"#DejaVuSans-2e\" x=\"63.623047\"/>\n       <use xlink:href=\"#DejaVuSans-35\" x=\"95.410156\"/>\n      </g>\n     </g>\n    </g>\n    <g id=\"ytick_2\">\n     <g id=\"line2d_13\">\n      <path d=\"M 50.14375 97.835308 \nL 245.44375 97.835308 \n\" clip-path=\"url(#p5d043b0390)\" style=\"fill: none; stroke: #b0b0b0; stroke-width: 0.8; stroke-linecap: square\"/>\n     </g>\n     <g id=\"line2d_14\">\n      <g>\n       <use xlink:href=\"#m3cdf5ecdea\" x=\"50.14375\" y=\"97.835308\" style=\"stroke: #000000; stroke-width: 0.8\"/>\n      </g>\n     </g>\n     <g id=\"text_8\">\n      <!-- 5.0 -->\n      <g transform=\"translate(27.240625 101.634526)scale(0.1 -0.1)\">\n       <use xlink:href=\"#DejaVuSans-35\"/>\n       <use xlink:href=\"#DejaVuSans-2e\" x=\"63.623047\"/>\n       <use xlink:href=\"#DejaVuSans-30\" x=\"95.410156\"/>\n      </g>\n     </g>\n    </g>\n    <g id=\"ytick_3\">\n     <g id=\"line2d_15\">\n      <path d=\"M 50.14375 73.26884 \nL 245.44375 73.26884 \n\" clip-path=\"url(#p5d043b0390)\" style=\"fill: none; stroke: #b0b0b0; stroke-width: 0.8; stroke-linecap: square\"/>\n     </g>\n     <g id=\"line2d_16\">\n      <g>\n       <use xlink:href=\"#m3cdf5ecdea\" x=\"50.14375\" y=\"73.26884\" style=\"stroke: #000000; stroke-width: 0.8\"/>\n      </g>\n     </g>\n     <g id=\"text_9\">\n      <!-- 7.5 -->\n      <g transform=\"translate(27.240625 77.068059)scale(0.1 -0.1)\">\n       <defs>\n        <path id=\"DejaVuSans-37\" d=\"M 525 4666 \nL 3525 4666 \nL 3525 4397 \nL 1831 0 \nL 1172 0 \nL 2766 4134 \nL 525 4134 \nL 525 4666 \nz\n\" transform=\"scale(0.015625)\"/>\n       </defs>\n       <use xlink:href=\"#DejaVuSans-37\"/>\n       <use xlink:href=\"#DejaVuSans-2e\" x=\"63.623047\"/>\n       <use xlink:href=\"#DejaVuSans-35\" x=\"95.410156\"/>\n      </g>\n     </g>\n    </g>\n    <g id=\"ytick_4\">\n     <g id=\"line2d_17\">\n      <path d=\"M 50.14375 48.702372 \nL 245.44375 48.702372 \n\" clip-path=\"url(#p5d043b0390)\" style=\"fill: none; stroke: #b0b0b0; stroke-width: 0.8; stroke-linecap: square\"/>\n     </g>\n     <g id=\"line2d_18\">\n      <g>\n       <use xlink:href=\"#m3cdf5ecdea\" x=\"50.14375\" y=\"48.702372\" style=\"stroke: #000000; stroke-width: 0.8\"/>\n      </g>\n     </g>\n     <g id=\"text_10\">\n      <!-- 10.0 -->\n      <g transform=\"translate(20.878125 52.501591)scale(0.1 -0.1)\">\n       <use xlink:href=\"#DejaVuSans-31\"/>\n       <use xlink:href=\"#DejaVuSans-30\" x=\"63.623047\"/>\n       <use xlink:href=\"#DejaVuSans-2e\" x=\"127.246094\"/>\n       <use xlink:href=\"#DejaVuSans-30\" x=\"159.033203\"/>\n      </g>\n     </g>\n    </g>\n    <g id=\"ytick_5\">\n     <g id=\"line2d_19\">\n      <path d=\"M 50.14375 24.135905 \nL 245.44375 24.135905 \n\" clip-path=\"url(#p5d043b0390)\" style=\"fill: none; stroke: #b0b0b0; stroke-width: 0.8; stroke-linecap: square\"/>\n     </g>\n     <g id=\"line2d_20\">\n      <g>\n       <use xlink:href=\"#m3cdf5ecdea\" x=\"50.14375\" y=\"24.135905\" style=\"stroke: #000000; stroke-width: 0.8\"/>\n      </g>\n     </g>\n     <g id=\"text_11\">\n      <!-- 12.5 -->\n      <g transform=\"translate(20.878125 27.935123)scale(0.1 -0.1)\">\n       <use xlink:href=\"#DejaVuSans-31\"/>\n       <use xlink:href=\"#DejaVuSans-32\" x=\"63.623047\"/>\n       <use xlink:href=\"#DejaVuSans-2e\" x=\"127.246094\"/>\n       <use xlink:href=\"#DejaVuSans-35\" x=\"159.033203\"/>\n      </g>\n     </g>\n    </g>\n    <g id=\"text_12\">\n     <!-- perplexity -->\n     <g transform=\"translate(14.798437 100.276562)rotate(-90)scale(0.1 -0.1)\">\n      <defs>\n       <path id=\"DejaVuSans-72\" d=\"M 2631 2963 \nQ 2534 3019 2420 3045 \nQ 2306 3072 2169 3072 \nQ 1681 3072 1420 2755 \nQ 1159 2438 1159 1844 \nL 1159 0 \nL 581 0 \nL 581 3500 \nL 1159 3500 \nL 1159 2956 \nQ 1341 3275 1631 3429 \nQ 1922 3584 2338 3584 \nQ 2397 3584 2469 3576 \nQ 2541 3569 2628 3553 \nL 2631 2963 \nz\n\" transform=\"scale(0.015625)\"/>\n       <path id=\"DejaVuSans-6c\" d=\"M 603 4863 \nL 1178 4863 \nL 1178 0 \nL 603 0 \nL 603 4863 \nz\n\" transform=\"scale(0.015625)\"/>\n       <path id=\"DejaVuSans-78\" d=\"M 3513 3500 \nL 2247 1797 \nL 3578 0 \nL 2900 0 \nL 1881 1375 \nL 863 0 \nL 184 0 \nL 1544 1831 \nL 300 3500 \nL 978 3500 \nL 1906 2253 \nL 2834 3500 \nL 3513 3500 \nz\n\" transform=\"scale(0.015625)\"/>\n       <path id=\"DejaVuSans-69\" d=\"M 603 3500 \nL 1178 3500 \nL 1178 0 \nL 603 0 \nL 603 3500 \nz\nM 603 4863 \nL 1178 4863 \nL 1178 4134 \nL 603 4134 \nL 603 4863 \nz\n\" transform=\"scale(0.015625)\"/>\n       <path id=\"DejaVuSans-74\" d=\"M 1172 4494 \nL 1172 3500 \nL 2356 3500 \nL 2356 3053 \nL 1172 3053 \nL 1172 1153 \nQ 1172 725 1289 603 \nQ 1406 481 1766 481 \nL 2356 481 \nL 2356 0 \nL 1766 0 \nQ 1100 0 847 248 \nQ 594 497 594 1153 \nL 594 3053 \nL 172 3053 \nL 172 3500 \nL 594 3500 \nL 594 4494 \nL 1172 4494 \nz\n\" transform=\"scale(0.015625)\"/>\n       <path id=\"DejaVuSans-79\" d=\"M 2059 -325 \nQ 1816 -950 1584 -1140 \nQ 1353 -1331 966 -1331 \nL 506 -1331 \nL 506 -850 \nL 844 -850 \nQ 1081 -850 1212 -737 \nQ 1344 -625 1503 -206 \nL 1606 56 \nL 191 3500 \nL 800 3500 \nL 1894 763 \nL 2988 3500 \nL 3597 3500 \nL 2059 -325 \nz\n\" transform=\"scale(0.015625)\"/>\n      </defs>\n      <use xlink:href=\"#DejaVuSans-70\"/>\n      <use xlink:href=\"#DejaVuSans-65\" x=\"63.476562\"/>\n      <use xlink:href=\"#DejaVuSans-72\" x=\"125\"/>\n      <use xlink:href=\"#DejaVuSans-70\" x=\"166.113281\"/>\n      <use xlink:href=\"#DejaVuSans-6c\" x=\"229.589844\"/>\n      <use xlink:href=\"#DejaVuSans-65\" x=\"257.373047\"/>\n      <use xlink:href=\"#DejaVuSans-78\" x=\"317.146484\"/>\n      <use xlink:href=\"#DejaVuSans-69\" x=\"376.326172\"/>\n      <use xlink:href=\"#DejaVuSans-74\" x=\"404.109375\"/>\n      <use xlink:href=\"#DejaVuSans-79\" x=\"443.318359\"/>\n     </g>\n    </g>\n   </g>\n   <g id=\"line2d_21\">\n    <path d=\"M 50.14375 13.377273 \nL 54.129464 43.161658 \nL 58.115179 52.717466 \nL 62.100893 59.909038 \nL 66.086607 62.557156 \nL 70.072321 66.078023 \nL 74.058036 68.362699 \nL 78.04375 69.621157 \nL 82.029464 71.244902 \nL 86.015179 74.67045 \nL 90.000893 75.908135 \nL 93.986607 79.438357 \nL 97.972321 79.584198 \nL 101.958036 87.787494 \nL 105.94375 91.125097 \nL 109.929464 95.61435 \nL 113.915179 101.996339 \nL 117.900893 108.500613 \nL 121.886607 114.135434 \nL 125.872321 119.160624 \nL 129.858036 122.418917 \nL 133.84375 125.427228 \nL 137.829464 128.054987 \nL 141.815179 130.281229 \nL 145.800893 131.740521 \nL 149.786607 132.462521 \nL 153.772321 132.23889 \nL 157.758036 133.503952 \nL 161.74375 134.030162 \nL 165.729464 134.337644 \nL 169.715179 135.183077 \nL 173.700893 135.983656 \nL 177.686607 136.321227 \nL 181.672321 136.163559 \nL 185.658036 135.915766 \nL 189.64375 136.174183 \nL 193.629464 136.627145 \nL 197.615179 136.541526 \nL 201.600893 136.527515 \nL 205.586607 136.683367 \nL 209.572321 136.371921 \nL 213.558036 136.804506 \nL 217.54375 136.602459 \nL 221.529464 136.7479 \nL 225.515179 136.903777 \nL 229.500893 136.814657 \nL 233.486607 136.859392 \nL 237.472321 136.746445 \nL 241.458036 136.892848 \nL 245.44375 136.922727 \n\" clip-path=\"url(#p5d043b0390)\" style=\"fill: none; stroke: #1f77b4; stroke-width: 1.5; stroke-linecap: square\"/>\n   </g>\n   <g id=\"patch_3\">\n    <path d=\"M 50.14375 143.1 \nL 50.14375 7.2 \n\" style=\"fill: none; stroke: #000000; stroke-width: 0.8; stroke-linejoin: miter; stroke-linecap: square\"/>\n   </g>\n   <g id=\"patch_4\">\n    <path d=\"M 245.44375 143.1 \nL 245.44375 7.2 \n\" style=\"fill: none; stroke: #000000; stroke-width: 0.8; stroke-linejoin: miter; stroke-linecap: square\"/>\n   </g>\n   <g id=\"patch_5\">\n    <path d=\"M 50.14375 143.1 \nL 245.44375 143.1 \n\" style=\"fill: none; stroke: #000000; stroke-width: 0.8; stroke-linejoin: miter; stroke-linecap: square\"/>\n   </g>\n   <g id=\"patch_6\">\n    <path d=\"M 50.14375 7.2 \nL 245.44375 7.2 \n\" style=\"fill: none; stroke: #000000; stroke-width: 0.8; stroke-linejoin: miter; stroke-linecap: square\"/>\n   </g>\n   <g id=\"legend_1\">\n    <g id=\"patch_7\">\n     <path d=\"M 183.16875 29.878125 \nL 238.44375 29.878125 \nQ 240.44375 29.878125 240.44375 27.878125 \nL 240.44375 14.2 \nQ 240.44375 12.2 238.44375 12.2 \nL 183.16875 12.2 \nQ 181.16875 12.2 181.16875 14.2 \nL 181.16875 27.878125 \nQ 181.16875 29.878125 183.16875 29.878125 \nz\n\" style=\"fill: #ffffff; opacity: 0.8; stroke: #cccccc; stroke-linejoin: miter\"/>\n    </g>\n    <g id=\"line2d_22\">\n     <path d=\"M 185.16875 20.298437 \nL 195.16875 20.298437 \nL 205.16875 20.298437 \n\" style=\"fill: none; stroke: #1f77b4; stroke-width: 1.5; stroke-linecap: square\"/>\n    </g>\n    <g id=\"text_13\">\n     <!-- train -->\n     <g transform=\"translate(213.16875 23.798437)scale(0.1 -0.1)\">\n      <defs>\n       <path id=\"DejaVuSans-61\" d=\"M 2194 1759 \nQ 1497 1759 1228 1600 \nQ 959 1441 959 1056 \nQ 959 750 1161 570 \nQ 1363 391 1709 391 \nQ 2188 391 2477 730 \nQ 2766 1069 2766 1631 \nL 2766 1759 \nL 2194 1759 \nz\nM 3341 1997 \nL 3341 0 \nL 2766 0 \nL 2766 531 \nQ 2569 213 2275 61 \nQ 1981 -91 1556 -91 \nQ 1019 -91 701 211 \nQ 384 513 384 1019 \nQ 384 1609 779 1909 \nQ 1175 2209 1959 2209 \nL 2766 2209 \nL 2766 2266 \nQ 2766 2663 2505 2880 \nQ 2244 3097 1772 3097 \nQ 1472 3097 1187 3025 \nQ 903 2953 641 2809 \nL 641 3341 \nQ 956 3463 1253 3523 \nQ 1550 3584 1831 3584 \nQ 2591 3584 2966 3190 \nQ 3341 2797 3341 1997 \nz\n\" transform=\"scale(0.015625)\"/>\n       <path id=\"DejaVuSans-6e\" d=\"M 3513 2113 \nL 3513 0 \nL 2938 0 \nL 2938 2094 \nQ 2938 2591 2744 2837 \nQ 2550 3084 2163 3084 \nQ 1697 3084 1428 2787 \nQ 1159 2491 1159 1978 \nL 1159 0 \nL 581 0 \nL 581 3500 \nL 1159 3500 \nL 1159 2956 \nQ 1366 3272 1645 3428 \nQ 1925 3584 2291 3584 \nQ 2894 3584 3203 3211 \nQ 3513 2838 3513 2113 \nz\n\" transform=\"scale(0.015625)\"/>\n      </defs>\n      <use xlink:href=\"#DejaVuSans-74\"/>\n      <use xlink:href=\"#DejaVuSans-72\" x=\"39.208984\"/>\n      <use xlink:href=\"#DejaVuSans-61\" x=\"80.322266\"/>\n      <use xlink:href=\"#DejaVuSans-69\" x=\"141.601562\"/>\n      <use xlink:href=\"#DejaVuSans-6e\" x=\"169.384766\"/>\n     </g>\n    </g>\n   </g>\n  </g>\n </g>\n <defs>\n  <clipPath id=\"p5d043b0390\">\n   <rect x=\"50.14375\" y=\"7.2\" width=\"195.3\" height=\"135.9\"/>\n  </clipPath>\n </defs>\n</svg>\n"
          },
          "metadata": {
            "needs_background": "light"
          }
        }
      ],
      "source": [
        "num_epochs, lr = 500, 1\n",
        "train_ch8(net, train_iter, vocab, lr, num_epochs, d2l.try_gpu())"
      ]
    },
    {
      "cell_type": "markdown",
      "id": "6669bb5c",
      "metadata": {
        "origin_pos": 56,
        "id": "6669bb5c"
      },
      "source": [
        "## 랜덤 샘플링 방법을 사용한 결과"
      ]
    },
    {
      "cell_type": "code",
      "execution_count": 20,
      "id": "383cd922",
      "metadata": {
        "execution": {
          "iopub.execute_input": "2022-07-10T03:31:00.356814Z",
          "iopub.status.busy": "2022-07-10T03:31:00.356493Z",
          "iopub.status.idle": "2022-07-10T03:32:13.773880Z",
          "shell.execute_reply": "2022-07-10T03:32:13.773035Z"
        },
        "origin_pos": 57,
        "tab": [
          "pytorch"
        ],
        "id": "383cd922",
        "outputId": "c1339c7d-fced-41fc-878c-926398112f04",
        "colab": {
          "base_uri": "https://localhost:8080/",
          "height": 314
        }
      },
      "outputs": [
        {
          "output_type": "stream",
          "name": "stdout",
          "text": [
            "perplexity 1.4, 17929.3 tokens/sec on cpu\n",
            "time travellerit s against reason said filbycan a cube that does\n",
            "traveller after the pauserequired for the proper assimilati\n"
          ]
        },
        {
          "output_type": "display_data",
          "data": {
            "text/plain": [
              "<Figure size 252x180 with 1 Axes>"
            ],
            "image/svg+xml": "<?xml version=\"1.0\" encoding=\"utf-8\" standalone=\"no\"?>\n<!DOCTYPE svg PUBLIC \"-//W3C//DTD SVG 1.1//EN\"\n  \"http://www.w3.org/Graphics/SVG/1.1/DTD/svg11.dtd\">\n<svg xmlns:xlink=\"http://www.w3.org/1999/xlink\" width=\"262.1875pt\" height=\"180.65625pt\" viewBox=\"0 0 262.1875 180.65625\" xmlns=\"http://www.w3.org/2000/svg\" version=\"1.1\">\n <metadata>\n  <rdf:RDF xmlns:dc=\"http://purl.org/dc/elements/1.1/\" xmlns:cc=\"http://creativecommons.org/ns#\" xmlns:rdf=\"http://www.w3.org/1999/02/22-rdf-syntax-ns#\">\n   <cc:Work>\n    <dc:type rdf:resource=\"http://purl.org/dc/dcmitype/StillImage\"/>\n    <dc:date>2022-07-14T15:36:14.219345</dc:date>\n    <dc:format>image/svg+xml</dc:format>\n    <dc:creator>\n     <cc:Agent>\n      <dc:title>Matplotlib v3.5.1, https://matplotlib.org/</dc:title>\n     </cc:Agent>\n    </dc:creator>\n   </cc:Work>\n  </rdf:RDF>\n </metadata>\n <defs>\n  <style type=\"text/css\">*{stroke-linejoin: round; stroke-linecap: butt}</style>\n </defs>\n <g id=\"figure_1\">\n  <g id=\"patch_1\">\n   <path d=\"M 0 180.65625 \nL 262.1875 180.65625 \nL 262.1875 0 \nL 0 0 \nL 0 180.65625 \nz\n\" style=\"fill: none\"/>\n  </g>\n  <g id=\"axes_1\">\n   <g id=\"patch_2\">\n    <path d=\"M 50.14375 143.1 \nL 245.44375 143.1 \nL 245.44375 7.2 \nL 50.14375 7.2 \nz\n\" style=\"fill: #ffffff\"/>\n   </g>\n   <g id=\"matplotlib.axis_1\">\n    <g id=\"xtick_1\">\n     <g id=\"line2d_1\">\n      <path d=\"M 86.015179 143.1 \nL 86.015179 7.2 \n\" clip-path=\"url(#p5c9e29ab0c)\" style=\"fill: none; stroke: #b0b0b0; stroke-width: 0.8; stroke-linecap: square\"/>\n     </g>\n     <g id=\"line2d_2\">\n      <defs>\n       <path id=\"m9aa21431ba\" d=\"M 0 0 \nL 0 3.5 \n\" style=\"stroke: #000000; stroke-width: 0.8\"/>\n      </defs>\n      <g>\n       <use xlink:href=\"#m9aa21431ba\" x=\"86.015179\" y=\"143.1\" style=\"stroke: #000000; stroke-width: 0.8\"/>\n      </g>\n     </g>\n     <g id=\"text_1\">\n      <!-- 100 -->\n      <g transform=\"translate(76.471429 157.698438)scale(0.1 -0.1)\">\n       <defs>\n        <path id=\"DejaVuSans-31\" d=\"M 794 531 \nL 1825 531 \nL 1825 4091 \nL 703 3866 \nL 703 4441 \nL 1819 4666 \nL 2450 4666 \nL 2450 531 \nL 3481 531 \nL 3481 0 \nL 794 0 \nL 794 531 \nz\n\" transform=\"scale(0.015625)\"/>\n        <path id=\"DejaVuSans-30\" d=\"M 2034 4250 \nQ 1547 4250 1301 3770 \nQ 1056 3291 1056 2328 \nQ 1056 1369 1301 889 \nQ 1547 409 2034 409 \nQ 2525 409 2770 889 \nQ 3016 1369 3016 2328 \nQ 3016 3291 2770 3770 \nQ 2525 4250 2034 4250 \nz\nM 2034 4750 \nQ 2819 4750 3233 4129 \nQ 3647 3509 3647 2328 \nQ 3647 1150 3233 529 \nQ 2819 -91 2034 -91 \nQ 1250 -91 836 529 \nQ 422 1150 422 2328 \nQ 422 3509 836 4129 \nQ 1250 4750 2034 4750 \nz\n\" transform=\"scale(0.015625)\"/>\n       </defs>\n       <use xlink:href=\"#DejaVuSans-31\"/>\n       <use xlink:href=\"#DejaVuSans-30\" x=\"63.623047\"/>\n       <use xlink:href=\"#DejaVuSans-30\" x=\"127.246094\"/>\n      </g>\n     </g>\n    </g>\n    <g id=\"xtick_2\">\n     <g id=\"line2d_3\">\n      <path d=\"M 125.872321 143.1 \nL 125.872321 7.2 \n\" clip-path=\"url(#p5c9e29ab0c)\" style=\"fill: none; stroke: #b0b0b0; stroke-width: 0.8; stroke-linecap: square\"/>\n     </g>\n     <g id=\"line2d_4\">\n      <g>\n       <use xlink:href=\"#m9aa21431ba\" x=\"125.872321\" y=\"143.1\" style=\"stroke: #000000; stroke-width: 0.8\"/>\n      </g>\n     </g>\n     <g id=\"text_2\">\n      <!-- 200 -->\n      <g transform=\"translate(116.328571 157.698438)scale(0.1 -0.1)\">\n       <defs>\n        <path id=\"DejaVuSans-32\" d=\"M 1228 531 \nL 3431 531 \nL 3431 0 \nL 469 0 \nL 469 531 \nQ 828 903 1448 1529 \nQ 2069 2156 2228 2338 \nQ 2531 2678 2651 2914 \nQ 2772 3150 2772 3378 \nQ 2772 3750 2511 3984 \nQ 2250 4219 1831 4219 \nQ 1534 4219 1204 4116 \nQ 875 4013 500 3803 \nL 500 4441 \nQ 881 4594 1212 4672 \nQ 1544 4750 1819 4750 \nQ 2544 4750 2975 4387 \nQ 3406 4025 3406 3419 \nQ 3406 3131 3298 2873 \nQ 3191 2616 2906 2266 \nQ 2828 2175 2409 1742 \nQ 1991 1309 1228 531 \nz\n\" transform=\"scale(0.015625)\"/>\n       </defs>\n       <use xlink:href=\"#DejaVuSans-32\"/>\n       <use xlink:href=\"#DejaVuSans-30\" x=\"63.623047\"/>\n       <use xlink:href=\"#DejaVuSans-30\" x=\"127.246094\"/>\n      </g>\n     </g>\n    </g>\n    <g id=\"xtick_3\">\n     <g id=\"line2d_5\">\n      <path d=\"M 165.729464 143.1 \nL 165.729464 7.2 \n\" clip-path=\"url(#p5c9e29ab0c)\" style=\"fill: none; stroke: #b0b0b0; stroke-width: 0.8; stroke-linecap: square\"/>\n     </g>\n     <g id=\"line2d_6\">\n      <g>\n       <use xlink:href=\"#m9aa21431ba\" x=\"165.729464\" y=\"143.1\" style=\"stroke: #000000; stroke-width: 0.8\"/>\n      </g>\n     </g>\n     <g id=\"text_3\">\n      <!-- 300 -->\n      <g transform=\"translate(156.185714 157.698438)scale(0.1 -0.1)\">\n       <defs>\n        <path id=\"DejaVuSans-33\" d=\"M 2597 2516 \nQ 3050 2419 3304 2112 \nQ 3559 1806 3559 1356 \nQ 3559 666 3084 287 \nQ 2609 -91 1734 -91 \nQ 1441 -91 1130 -33 \nQ 819 25 488 141 \nL 488 750 \nQ 750 597 1062 519 \nQ 1375 441 1716 441 \nQ 2309 441 2620 675 \nQ 2931 909 2931 1356 \nQ 2931 1769 2642 2001 \nQ 2353 2234 1838 2234 \nL 1294 2234 \nL 1294 2753 \nL 1863 2753 \nQ 2328 2753 2575 2939 \nQ 2822 3125 2822 3475 \nQ 2822 3834 2567 4026 \nQ 2313 4219 1838 4219 \nQ 1578 4219 1281 4162 \nQ 984 4106 628 3988 \nL 628 4550 \nQ 988 4650 1302 4700 \nQ 1616 4750 1894 4750 \nQ 2613 4750 3031 4423 \nQ 3450 4097 3450 3541 \nQ 3450 3153 3228 2886 \nQ 3006 2619 2597 2516 \nz\n\" transform=\"scale(0.015625)\"/>\n       </defs>\n       <use xlink:href=\"#DejaVuSans-33\"/>\n       <use xlink:href=\"#DejaVuSans-30\" x=\"63.623047\"/>\n       <use xlink:href=\"#DejaVuSans-30\" x=\"127.246094\"/>\n      </g>\n     </g>\n    </g>\n    <g id=\"xtick_4\">\n     <g id=\"line2d_7\">\n      <path d=\"M 205.586607 143.1 \nL 205.586607 7.2 \n\" clip-path=\"url(#p5c9e29ab0c)\" style=\"fill: none; stroke: #b0b0b0; stroke-width: 0.8; stroke-linecap: square\"/>\n     </g>\n     <g id=\"line2d_8\">\n      <g>\n       <use xlink:href=\"#m9aa21431ba\" x=\"205.586607\" y=\"143.1\" style=\"stroke: #000000; stroke-width: 0.8\"/>\n      </g>\n     </g>\n     <g id=\"text_4\">\n      <!-- 400 -->\n      <g transform=\"translate(196.042857 157.698438)scale(0.1 -0.1)\">\n       <defs>\n        <path id=\"DejaVuSans-34\" d=\"M 2419 4116 \nL 825 1625 \nL 2419 1625 \nL 2419 4116 \nz\nM 2253 4666 \nL 3047 4666 \nL 3047 1625 \nL 3713 1625 \nL 3713 1100 \nL 3047 1100 \nL 3047 0 \nL 2419 0 \nL 2419 1100 \nL 313 1100 \nL 313 1709 \nL 2253 4666 \nz\n\" transform=\"scale(0.015625)\"/>\n       </defs>\n       <use xlink:href=\"#DejaVuSans-34\"/>\n       <use xlink:href=\"#DejaVuSans-30\" x=\"63.623047\"/>\n       <use xlink:href=\"#DejaVuSans-30\" x=\"127.246094\"/>\n      </g>\n     </g>\n    </g>\n    <g id=\"xtick_5\">\n     <g id=\"line2d_9\">\n      <path d=\"M 245.44375 143.1 \nL 245.44375 7.2 \n\" clip-path=\"url(#p5c9e29ab0c)\" style=\"fill: none; stroke: #b0b0b0; stroke-width: 0.8; stroke-linecap: square\"/>\n     </g>\n     <g id=\"line2d_10\">\n      <g>\n       <use xlink:href=\"#m9aa21431ba\" x=\"245.44375\" y=\"143.1\" style=\"stroke: #000000; stroke-width: 0.8\"/>\n      </g>\n     </g>\n     <g id=\"text_5\">\n      <!-- 500 -->\n      <g transform=\"translate(235.9 157.698438)scale(0.1 -0.1)\">\n       <defs>\n        <path id=\"DejaVuSans-35\" d=\"M 691 4666 \nL 3169 4666 \nL 3169 4134 \nL 1269 4134 \nL 1269 2991 \nQ 1406 3038 1543 3061 \nQ 1681 3084 1819 3084 \nQ 2600 3084 3056 2656 \nQ 3513 2228 3513 1497 \nQ 3513 744 3044 326 \nQ 2575 -91 1722 -91 \nQ 1428 -91 1123 -41 \nQ 819 9 494 109 \nL 494 744 \nQ 775 591 1075 516 \nQ 1375 441 1709 441 \nQ 2250 441 2565 725 \nQ 2881 1009 2881 1497 \nQ 2881 1984 2565 2268 \nQ 2250 2553 1709 2553 \nQ 1456 2553 1204 2497 \nQ 953 2441 691 2322 \nL 691 4666 \nz\n\" transform=\"scale(0.015625)\"/>\n       </defs>\n       <use xlink:href=\"#DejaVuSans-35\"/>\n       <use xlink:href=\"#DejaVuSans-30\" x=\"63.623047\"/>\n       <use xlink:href=\"#DejaVuSans-30\" x=\"127.246094\"/>\n      </g>\n     </g>\n    </g>\n    <g id=\"text_6\">\n     <!-- epoch -->\n     <g transform=\"translate(132.565625 171.376563)scale(0.1 -0.1)\">\n      <defs>\n       <path id=\"DejaVuSans-65\" d=\"M 3597 1894 \nL 3597 1613 \nL 953 1613 \nQ 991 1019 1311 708 \nQ 1631 397 2203 397 \nQ 2534 397 2845 478 \nQ 3156 559 3463 722 \nL 3463 178 \nQ 3153 47 2828 -22 \nQ 2503 -91 2169 -91 \nQ 1331 -91 842 396 \nQ 353 884 353 1716 \nQ 353 2575 817 3079 \nQ 1281 3584 2069 3584 \nQ 2775 3584 3186 3129 \nQ 3597 2675 3597 1894 \nz\nM 3022 2063 \nQ 3016 2534 2758 2815 \nQ 2500 3097 2075 3097 \nQ 1594 3097 1305 2825 \nQ 1016 2553 972 2059 \nL 3022 2063 \nz\n\" transform=\"scale(0.015625)\"/>\n       <path id=\"DejaVuSans-70\" d=\"M 1159 525 \nL 1159 -1331 \nL 581 -1331 \nL 581 3500 \nL 1159 3500 \nL 1159 2969 \nQ 1341 3281 1617 3432 \nQ 1894 3584 2278 3584 \nQ 2916 3584 3314 3078 \nQ 3713 2572 3713 1747 \nQ 3713 922 3314 415 \nQ 2916 -91 2278 -91 \nQ 1894 -91 1617 61 \nQ 1341 213 1159 525 \nz\nM 3116 1747 \nQ 3116 2381 2855 2742 \nQ 2594 3103 2138 3103 \nQ 1681 3103 1420 2742 \nQ 1159 2381 1159 1747 \nQ 1159 1113 1420 752 \nQ 1681 391 2138 391 \nQ 2594 391 2855 752 \nQ 3116 1113 3116 1747 \nz\n\" transform=\"scale(0.015625)\"/>\n       <path id=\"DejaVuSans-6f\" d=\"M 1959 3097 \nQ 1497 3097 1228 2736 \nQ 959 2375 959 1747 \nQ 959 1119 1226 758 \nQ 1494 397 1959 397 \nQ 2419 397 2687 759 \nQ 2956 1122 2956 1747 \nQ 2956 2369 2687 2733 \nQ 2419 3097 1959 3097 \nz\nM 1959 3584 \nQ 2709 3584 3137 3096 \nQ 3566 2609 3566 1747 \nQ 3566 888 3137 398 \nQ 2709 -91 1959 -91 \nQ 1206 -91 779 398 \nQ 353 888 353 1747 \nQ 353 2609 779 3096 \nQ 1206 3584 1959 3584 \nz\n\" transform=\"scale(0.015625)\"/>\n       <path id=\"DejaVuSans-63\" d=\"M 3122 3366 \nL 3122 2828 \nQ 2878 2963 2633 3030 \nQ 2388 3097 2138 3097 \nQ 1578 3097 1268 2742 \nQ 959 2388 959 1747 \nQ 959 1106 1268 751 \nQ 1578 397 2138 397 \nQ 2388 397 2633 464 \nQ 2878 531 3122 666 \nL 3122 134 \nQ 2881 22 2623 -34 \nQ 2366 -91 2075 -91 \nQ 1284 -91 818 406 \nQ 353 903 353 1747 \nQ 353 2603 823 3093 \nQ 1294 3584 2113 3584 \nQ 2378 3584 2631 3529 \nQ 2884 3475 3122 3366 \nz\n\" transform=\"scale(0.015625)\"/>\n       <path id=\"DejaVuSans-68\" d=\"M 3513 2113 \nL 3513 0 \nL 2938 0 \nL 2938 2094 \nQ 2938 2591 2744 2837 \nQ 2550 3084 2163 3084 \nQ 1697 3084 1428 2787 \nQ 1159 2491 1159 1978 \nL 1159 0 \nL 581 0 \nL 581 4863 \nL 1159 4863 \nL 1159 2956 \nQ 1366 3272 1645 3428 \nQ 1925 3584 2291 3584 \nQ 2894 3584 3203 3211 \nQ 3513 2838 3513 2113 \nz\n\" transform=\"scale(0.015625)\"/>\n      </defs>\n      <use xlink:href=\"#DejaVuSans-65\"/>\n      <use xlink:href=\"#DejaVuSans-70\" x=\"61.523438\"/>\n      <use xlink:href=\"#DejaVuSans-6f\" x=\"125\"/>\n      <use xlink:href=\"#DejaVuSans-63\" x=\"186.181641\"/>\n      <use xlink:href=\"#DejaVuSans-68\" x=\"241.162109\"/>\n     </g>\n    </g>\n   </g>\n   <g id=\"matplotlib.axis_2\">\n    <g id=\"ytick_1\">\n     <g id=\"line2d_11\">\n      <path d=\"M 50.14375 125.102448 \nL 245.44375 125.102448 \n\" clip-path=\"url(#p5c9e29ab0c)\" style=\"fill: none; stroke: #b0b0b0; stroke-width: 0.8; stroke-linecap: square\"/>\n     </g>\n     <g id=\"line2d_12\">\n      <defs>\n       <path id=\"mbe4a258220\" d=\"M 0 0 \nL -3.5 0 \n\" style=\"stroke: #000000; stroke-width: 0.8\"/>\n      </defs>\n      <g>\n       <use xlink:href=\"#mbe4a258220\" x=\"50.14375\" y=\"125.102448\" style=\"stroke: #000000; stroke-width: 0.8\"/>\n      </g>\n     </g>\n     <g id=\"text_7\">\n      <!-- 2.5 -->\n      <g transform=\"translate(27.240625 128.901667)scale(0.1 -0.1)\">\n       <defs>\n        <path id=\"DejaVuSans-2e\" d=\"M 684 794 \nL 1344 794 \nL 1344 0 \nL 684 0 \nL 684 794 \nz\n\" transform=\"scale(0.015625)\"/>\n       </defs>\n       <use xlink:href=\"#DejaVuSans-32\"/>\n       <use xlink:href=\"#DejaVuSans-2e\" x=\"63.623047\"/>\n       <use xlink:href=\"#DejaVuSans-35\" x=\"95.410156\"/>\n      </g>\n     </g>\n    </g>\n    <g id=\"ytick_2\">\n     <g id=\"line2d_13\">\n      <path d=\"M 50.14375 99.782564 \nL 245.44375 99.782564 \n\" clip-path=\"url(#p5c9e29ab0c)\" style=\"fill: none; stroke: #b0b0b0; stroke-width: 0.8; stroke-linecap: square\"/>\n     </g>\n     <g id=\"line2d_14\">\n      <g>\n       <use xlink:href=\"#mbe4a258220\" x=\"50.14375\" y=\"99.782564\" style=\"stroke: #000000; stroke-width: 0.8\"/>\n      </g>\n     </g>\n     <g id=\"text_8\">\n      <!-- 5.0 -->\n      <g transform=\"translate(27.240625 103.581783)scale(0.1 -0.1)\">\n       <use xlink:href=\"#DejaVuSans-35\"/>\n       <use xlink:href=\"#DejaVuSans-2e\" x=\"63.623047\"/>\n       <use xlink:href=\"#DejaVuSans-30\" x=\"95.410156\"/>\n      </g>\n     </g>\n    </g>\n    <g id=\"ytick_3\">\n     <g id=\"line2d_15\">\n      <path d=\"M 50.14375 74.462681 \nL 245.44375 74.462681 \n\" clip-path=\"url(#p5c9e29ab0c)\" style=\"fill: none; stroke: #b0b0b0; stroke-width: 0.8; stroke-linecap: square\"/>\n     </g>\n     <g id=\"line2d_16\">\n      <g>\n       <use xlink:href=\"#mbe4a258220\" x=\"50.14375\" y=\"74.462681\" style=\"stroke: #000000; stroke-width: 0.8\"/>\n      </g>\n     </g>\n     <g id=\"text_9\">\n      <!-- 7.5 -->\n      <g transform=\"translate(27.240625 78.261899)scale(0.1 -0.1)\">\n       <defs>\n        <path id=\"DejaVuSans-37\" d=\"M 525 4666 \nL 3525 4666 \nL 3525 4397 \nL 1831 0 \nL 1172 0 \nL 2766 4134 \nL 525 4134 \nL 525 4666 \nz\n\" transform=\"scale(0.015625)\"/>\n       </defs>\n       <use xlink:href=\"#DejaVuSans-37\"/>\n       <use xlink:href=\"#DejaVuSans-2e\" x=\"63.623047\"/>\n       <use xlink:href=\"#DejaVuSans-35\" x=\"95.410156\"/>\n      </g>\n     </g>\n    </g>\n    <g id=\"ytick_4\">\n     <g id=\"line2d_17\">\n      <path d=\"M 50.14375 49.142797 \nL 245.44375 49.142797 \n\" clip-path=\"url(#p5c9e29ab0c)\" style=\"fill: none; stroke: #b0b0b0; stroke-width: 0.8; stroke-linecap: square\"/>\n     </g>\n     <g id=\"line2d_18\">\n      <g>\n       <use xlink:href=\"#mbe4a258220\" x=\"50.14375\" y=\"49.142797\" style=\"stroke: #000000; stroke-width: 0.8\"/>\n      </g>\n     </g>\n     <g id=\"text_10\">\n      <!-- 10.0 -->\n      <g transform=\"translate(20.878125 52.942016)scale(0.1 -0.1)\">\n       <use xlink:href=\"#DejaVuSans-31\"/>\n       <use xlink:href=\"#DejaVuSans-30\" x=\"63.623047\"/>\n       <use xlink:href=\"#DejaVuSans-2e\" x=\"127.246094\"/>\n       <use xlink:href=\"#DejaVuSans-30\" x=\"159.033203\"/>\n      </g>\n     </g>\n    </g>\n    <g id=\"ytick_5\">\n     <g id=\"line2d_19\">\n      <path d=\"M 50.14375 23.822913 \nL 245.44375 23.822913 \n\" clip-path=\"url(#p5c9e29ab0c)\" style=\"fill: none; stroke: #b0b0b0; stroke-width: 0.8; stroke-linecap: square\"/>\n     </g>\n     <g id=\"line2d_20\">\n      <g>\n       <use xlink:href=\"#mbe4a258220\" x=\"50.14375\" y=\"23.822913\" style=\"stroke: #000000; stroke-width: 0.8\"/>\n      </g>\n     </g>\n     <g id=\"text_11\">\n      <!-- 12.5 -->\n      <g transform=\"translate(20.878125 27.622132)scale(0.1 -0.1)\">\n       <use xlink:href=\"#DejaVuSans-31\"/>\n       <use xlink:href=\"#DejaVuSans-32\" x=\"63.623047\"/>\n       <use xlink:href=\"#DejaVuSans-2e\" x=\"127.246094\"/>\n       <use xlink:href=\"#DejaVuSans-35\" x=\"159.033203\"/>\n      </g>\n     </g>\n    </g>\n    <g id=\"text_12\">\n     <!-- perplexity -->\n     <g transform=\"translate(14.798437 100.276562)rotate(-90)scale(0.1 -0.1)\">\n      <defs>\n       <path id=\"DejaVuSans-72\" d=\"M 2631 2963 \nQ 2534 3019 2420 3045 \nQ 2306 3072 2169 3072 \nQ 1681 3072 1420 2755 \nQ 1159 2438 1159 1844 \nL 1159 0 \nL 581 0 \nL 581 3500 \nL 1159 3500 \nL 1159 2956 \nQ 1341 3275 1631 3429 \nQ 1922 3584 2338 3584 \nQ 2397 3584 2469 3576 \nQ 2541 3569 2628 3553 \nL 2631 2963 \nz\n\" transform=\"scale(0.015625)\"/>\n       <path id=\"DejaVuSans-6c\" d=\"M 603 4863 \nL 1178 4863 \nL 1178 0 \nL 603 0 \nL 603 4863 \nz\n\" transform=\"scale(0.015625)\"/>\n       <path id=\"DejaVuSans-78\" d=\"M 3513 3500 \nL 2247 1797 \nL 3578 0 \nL 2900 0 \nL 1881 1375 \nL 863 0 \nL 184 0 \nL 1544 1831 \nL 300 3500 \nL 978 3500 \nL 1906 2253 \nL 2834 3500 \nL 3513 3500 \nz\n\" transform=\"scale(0.015625)\"/>\n       <path id=\"DejaVuSans-69\" d=\"M 603 3500 \nL 1178 3500 \nL 1178 0 \nL 603 0 \nL 603 3500 \nz\nM 603 4863 \nL 1178 4863 \nL 1178 4134 \nL 603 4134 \nL 603 4863 \nz\n\" transform=\"scale(0.015625)\"/>\n       <path id=\"DejaVuSans-74\" d=\"M 1172 4494 \nL 1172 3500 \nL 2356 3500 \nL 2356 3053 \nL 1172 3053 \nL 1172 1153 \nQ 1172 725 1289 603 \nQ 1406 481 1766 481 \nL 2356 481 \nL 2356 0 \nL 1766 0 \nQ 1100 0 847 248 \nQ 594 497 594 1153 \nL 594 3053 \nL 172 3053 \nL 172 3500 \nL 594 3500 \nL 594 4494 \nL 1172 4494 \nz\n\" transform=\"scale(0.015625)\"/>\n       <path id=\"DejaVuSans-79\" d=\"M 2059 -325 \nQ 1816 -950 1584 -1140 \nQ 1353 -1331 966 -1331 \nL 506 -1331 \nL 506 -850 \nL 844 -850 \nQ 1081 -850 1212 -737 \nQ 1344 -625 1503 -206 \nL 1606 56 \nL 191 3500 \nL 800 3500 \nL 1894 763 \nL 2988 3500 \nL 3597 3500 \nL 2059 -325 \nz\n\" transform=\"scale(0.015625)\"/>\n      </defs>\n      <use xlink:href=\"#DejaVuSans-70\"/>\n      <use xlink:href=\"#DejaVuSans-65\" x=\"63.476562\"/>\n      <use xlink:href=\"#DejaVuSans-72\" x=\"125\"/>\n      <use xlink:href=\"#DejaVuSans-70\" x=\"166.113281\"/>\n      <use xlink:href=\"#DejaVuSans-6c\" x=\"229.589844\"/>\n      <use xlink:href=\"#DejaVuSans-65\" x=\"257.373047\"/>\n      <use xlink:href=\"#DejaVuSans-78\" x=\"317.146484\"/>\n      <use xlink:href=\"#DejaVuSans-69\" x=\"376.326172\"/>\n      <use xlink:href=\"#DejaVuSans-74\" x=\"404.109375\"/>\n      <use xlink:href=\"#DejaVuSans-79\" x=\"443.318359\"/>\n     </g>\n    </g>\n   </g>\n   <g id=\"line2d_21\">\n    <path d=\"M 50.14375 13.377273 \nL 54.129464 41.866538 \nL 58.115179 53.15538 \nL 62.100893 59.534202 \nL 66.086607 63.144963 \nL 70.072321 64.7941 \nL 74.058036 68.087161 \nL 78.04375 70.135522 \nL 82.029464 70.63955 \nL 86.015179 73.928627 \nL 90.000893 76.21821 \nL 93.986607 77.949553 \nL 97.972321 80.992445 \nL 101.958036 83.220398 \nL 105.94375 84.57811 \nL 109.929464 89.639672 \nL 113.915179 94.657921 \nL 117.900893 98.432172 \nL 121.886607 104.880188 \nL 125.872321 109.261384 \nL 129.858036 112.410571 \nL 133.84375 114.740318 \nL 137.829464 119.338478 \nL 141.815179 123.063998 \nL 145.800893 125.159961 \nL 149.786607 125.703989 \nL 153.772321 130.198783 \nL 157.758036 130.100568 \nL 161.74375 128.95669 \nL 165.729464 131.228483 \nL 169.715179 132.29421 \nL 173.700893 132.639936 \nL 177.686607 132.686075 \nL 181.672321 133.330579 \nL 185.658036 134.331111 \nL 189.64375 134.521405 \nL 193.629464 134.046513 \nL 197.615179 135.990812 \nL 201.600893 134.753559 \nL 205.586607 134.814618 \nL 209.572321 134.025222 \nL 213.558036 135.793686 \nL 217.54375 135.376746 \nL 221.529464 135.472917 \nL 225.515179 135.329295 \nL 229.500893 136.446355 \nL 233.486607 136.092134 \nL 237.472321 136.64007 \nL 241.458036 136.922727 \nL 245.44375 136.49138 \n\" clip-path=\"url(#p5c9e29ab0c)\" style=\"fill: none; stroke: #1f77b4; stroke-width: 1.5; stroke-linecap: square\"/>\n   </g>\n   <g id=\"patch_3\">\n    <path d=\"M 50.14375 143.1 \nL 50.14375 7.2 \n\" style=\"fill: none; stroke: #000000; stroke-width: 0.8; stroke-linejoin: miter; stroke-linecap: square\"/>\n   </g>\n   <g id=\"patch_4\">\n    <path d=\"M 245.44375 143.1 \nL 245.44375 7.2 \n\" style=\"fill: none; stroke: #000000; stroke-width: 0.8; stroke-linejoin: miter; stroke-linecap: square\"/>\n   </g>\n   <g id=\"patch_5\">\n    <path d=\"M 50.14375 143.1 \nL 245.44375 143.1 \n\" style=\"fill: none; stroke: #000000; stroke-width: 0.8; stroke-linejoin: miter; stroke-linecap: square\"/>\n   </g>\n   <g id=\"patch_6\">\n    <path d=\"M 50.14375 7.2 \nL 245.44375 7.2 \n\" style=\"fill: none; stroke: #000000; stroke-width: 0.8; stroke-linejoin: miter; stroke-linecap: square\"/>\n   </g>\n   <g id=\"legend_1\">\n    <g id=\"patch_7\">\n     <path d=\"M 183.16875 29.878125 \nL 238.44375 29.878125 \nQ 240.44375 29.878125 240.44375 27.878125 \nL 240.44375 14.2 \nQ 240.44375 12.2 238.44375 12.2 \nL 183.16875 12.2 \nQ 181.16875 12.2 181.16875 14.2 \nL 181.16875 27.878125 \nQ 181.16875 29.878125 183.16875 29.878125 \nz\n\" style=\"fill: #ffffff; opacity: 0.8; stroke: #cccccc; stroke-linejoin: miter\"/>\n    </g>\n    <g id=\"line2d_22\">\n     <path d=\"M 185.16875 20.298437 \nL 195.16875 20.298437 \nL 205.16875 20.298437 \n\" style=\"fill: none; stroke: #1f77b4; stroke-width: 1.5; stroke-linecap: square\"/>\n    </g>\n    <g id=\"text_13\">\n     <!-- train -->\n     <g transform=\"translate(213.16875 23.798437)scale(0.1 -0.1)\">\n      <defs>\n       <path id=\"DejaVuSans-61\" d=\"M 2194 1759 \nQ 1497 1759 1228 1600 \nQ 959 1441 959 1056 \nQ 959 750 1161 570 \nQ 1363 391 1709 391 \nQ 2188 391 2477 730 \nQ 2766 1069 2766 1631 \nL 2766 1759 \nL 2194 1759 \nz\nM 3341 1997 \nL 3341 0 \nL 2766 0 \nL 2766 531 \nQ 2569 213 2275 61 \nQ 1981 -91 1556 -91 \nQ 1019 -91 701 211 \nQ 384 513 384 1019 \nQ 384 1609 779 1909 \nQ 1175 2209 1959 2209 \nL 2766 2209 \nL 2766 2266 \nQ 2766 2663 2505 2880 \nQ 2244 3097 1772 3097 \nQ 1472 3097 1187 3025 \nQ 903 2953 641 2809 \nL 641 3341 \nQ 956 3463 1253 3523 \nQ 1550 3584 1831 3584 \nQ 2591 3584 2966 3190 \nQ 3341 2797 3341 1997 \nz\n\" transform=\"scale(0.015625)\"/>\n       <path id=\"DejaVuSans-6e\" d=\"M 3513 2113 \nL 3513 0 \nL 2938 0 \nL 2938 2094 \nQ 2938 2591 2744 2837 \nQ 2550 3084 2163 3084 \nQ 1697 3084 1428 2787 \nQ 1159 2491 1159 1978 \nL 1159 0 \nL 581 0 \nL 581 3500 \nL 1159 3500 \nL 1159 2956 \nQ 1366 3272 1645 3428 \nQ 1925 3584 2291 3584 \nQ 2894 3584 3203 3211 \nQ 3513 2838 3513 2113 \nz\n\" transform=\"scale(0.015625)\"/>\n      </defs>\n      <use xlink:href=\"#DejaVuSans-74\"/>\n      <use xlink:href=\"#DejaVuSans-72\" x=\"39.208984\"/>\n      <use xlink:href=\"#DejaVuSans-61\" x=\"80.322266\"/>\n      <use xlink:href=\"#DejaVuSans-69\" x=\"141.601562\"/>\n      <use xlink:href=\"#DejaVuSans-6e\" x=\"169.384766\"/>\n     </g>\n    </g>\n   </g>\n  </g>\n </g>\n <defs>\n  <clipPath id=\"p5c9e29ab0c\">\n   <rect x=\"50.14375\" y=\"7.2\" width=\"195.3\" height=\"135.9\"/>\n  </clipPath>\n </defs>\n</svg>\n"
          },
          "metadata": {
            "needs_background": "light"
          }
        }
      ],
      "source": [
        "net = RNNModelScratch(len(vocab), num_hiddens, d2l.try_gpu(), get_params,\n",
        "                      init_rnn_state, rnn)\n",
        "train_ch8(net, train_iter, vocab, lr, num_epochs, d2l.try_gpu(),\n",
        "          use_random_iter=True)"
      ]
    },
    {
      "cell_type": "markdown",
      "id": "37e50850",
      "metadata": {
        "origin_pos": 59,
        "id": "37e50850"
      },
      "source": [
        "- 위의 RNN 모델을 처음부터 구현하는 것은 유익하지만, 편리하지는 않다. 다음 섹션에서는 구현하기 쉽고 더 빨리 실행되도록 하는 방법과 같이 RNN 모델을 개선하는 방법에 대해 알아본다.\n",
        "\n",
        "\n",
        "# Summary\n",
        "\n",
        "* 우리는 RNN 기반의 character-level language model을 훈련시켜 사용자가 제공한 text `prefix`에 따라 텍스트를 생성할 수 있다.\n",
        "* 간단한 RNN 언어 모델은 input encoding, RNN 모델링 및 output generation으로 구성된다.\n",
        "* RNN 모델은 훈련을 위해 state initialization가 필요하지만, random sampling과 sequential partitioning은 다른 방법을 사용한다.\n",
        "* 워밍업 period를 통해 모델은 예측하기 전에 스스로를 업데이트할 수 있다(예: initialized value보다 더 나은 hidden state를 얻을 수 있다).\n",
        "* Gradient clipping은 gradient explosion을 방지하지만 vanishing gradients은 고칠 수 없다."
      ]
    },
    {
      "cell_type": "markdown",
      "metadata": {
        "origin_pos": 0,
        "id": "f0ce663d"
      },
      "source": [
        "# Concise Implementation of Recurrent Neural Networks\n",
        "\n",
        "섹션 8.5는 RNN이 어떻게 구현되는지 보는 데 도움이 되지만, 이는 편리하거나 빠르지 않다. 이 섹션에서는 deep learning framework의 High-level API에서 제공하는 기능을 사용하여 동일한 언어 모델을 보다 효율적으로 구현하는 방법을 보여 준다. 이전과 마찬가지로 time machine dataset\u001c 읽는 것으로 시작한다."
      ],
      "id": "f0ce663d"
    },
    {
      "cell_type": "code",
      "execution_count": 21,
      "metadata": {
        "execution": {
          "iopub.execute_input": "2022-07-10T03:26:36.637587Z",
          "iopub.status.busy": "2022-07-10T03:26:36.636654Z",
          "iopub.status.idle": "2022-07-10T03:26:38.845706Z",
          "shell.execute_reply": "2022-07-10T03:26:38.844789Z"
        },
        "origin_pos": 2,
        "tab": [
          "pytorch"
        ],
        "id": "b6dfdd2c"
      },
      "outputs": [],
      "source": [
        "import torch\n",
        "from torch import nn\n",
        "from torch.nn import functional as F\n",
        "from d2l import torch as d2l\n",
        "\n",
        "batch_size, num_steps = 32, 35\n",
        "train_iter, vocab = d2l.load_data_time_machine(batch_size, num_steps)"
      ],
      "id": "b6dfdd2c"
    },
    {
      "cell_type": "markdown",
      "metadata": {
        "origin_pos": 4,
        "id": "0432f9f7"
      },
      "source": [
        "# **Defining the Model**\n",
        "\n",
        "High-level API는 RNN을 제공한다. 단일 hidden layer와 256개의 hidden unit으로 `rnn_layer`를 구성한다. \n",
        "\n",
        "multiple layer는 9.3절에서 볼 수 있다. 지금은, multiple layer는 단순히 RNN의 다음 layer을 위한 input으로 사용되는 one layer의 output에 해당한다고 생각하면 충분하다."
      ],
      "id": "0432f9f7"
    },
    {
      "cell_type": "code",
      "execution_count": 22,
      "metadata": {
        "execution": {
          "iopub.execute_input": "2022-07-10T03:26:38.850856Z",
          "iopub.status.busy": "2022-07-10T03:26:38.850094Z",
          "iopub.status.idle": "2022-07-10T03:26:38.874713Z",
          "shell.execute_reply": "2022-07-10T03:26:38.873824Z"
        },
        "origin_pos": 6,
        "tab": [
          "pytorch"
        ],
        "id": "96188aeb"
      },
      "outputs": [],
      "source": [
        "num_hiddens = 256\n",
        "rnn_layer = nn.RNN(len(vocab), num_hiddens)"
      ],
      "id": "96188aeb"
    },
    {
      "cell_type": "markdown",
      "metadata": {
        "origin_pos": 9,
        "tab": [
          "pytorch"
        ],
        "id": "6b0e2f40"
      },
      "source": [
        "우리는 텐서를 사용하여 hidden state를 초기화한다. 그 구조는 (number of hidden layers, batch size, number of *hidden* units)이다."
      ],
      "id": "6b0e2f40"
    },
    {
      "cell_type": "code",
      "execution_count": 23,
      "metadata": {
        "execution": {
          "iopub.execute_input": "2022-07-10T03:26:38.878529Z",
          "iopub.status.busy": "2022-07-10T03:26:38.878070Z",
          "iopub.status.idle": "2022-07-10T03:26:38.885772Z",
          "shell.execute_reply": "2022-07-10T03:26:38.884962Z"
        },
        "origin_pos": 11,
        "tab": [
          "pytorch"
        ],
        "id": "b10fb326",
        "outputId": "e47961c6-e1d3-4cb0-8804-9fae952f64e4",
        "colab": {
          "base_uri": "https://localhost:8080/"
        }
      },
      "outputs": [
        {
          "output_type": "execute_result",
          "data": {
            "text/plain": [
              "torch.Size([1, 32, 256])"
            ]
          },
          "metadata": {},
          "execution_count": 23
        }
      ],
      "source": [
        "state = torch.zeros((1, batch_size, num_hiddens))\n",
        "state.shape"
      ],
      "id": "b10fb326"
    },
    {
      "cell_type": "markdown",
      "metadata": {
        "origin_pos": 13,
        "id": "802a2cb8"
      },
      "source": [
        "hidden state와 input을 사용하면 업데이트된 hidden state로 output을 계산할 수 있다. \n",
        "\n",
        "`rnn_layer`의 output `Y`는 output layer의 계산을 포함하지 않는다는 점이 중요하다. \n",
        "\n",
        "`Y`는 각 time step에서 hidden state를 나타내며 후속 output layer의 input으로 사용할 수 있다."
      ],
      "id": "802a2cb8"
    },
    {
      "cell_type": "code",
      "execution_count": 24,
      "metadata": {
        "execution": {
          "iopub.execute_input": "2022-07-10T03:26:38.889296Z",
          "iopub.status.busy": "2022-07-10T03:26:38.888781Z",
          "iopub.status.idle": "2022-07-10T03:26:38.907668Z",
          "shell.execute_reply": "2022-07-10T03:26:38.906840Z"
        },
        "origin_pos": 16,
        "tab": [
          "pytorch"
        ],
        "id": "63492c05",
        "outputId": "d39c2045-4f4d-40f8-f6d0-9d664898706e",
        "colab": {
          "base_uri": "https://localhost:8080/"
        }
      },
      "outputs": [
        {
          "output_type": "execute_result",
          "data": {
            "text/plain": [
              "(torch.Size([35, 32, 256]), torch.Size([1, 32, 256]))"
            ]
          },
          "metadata": {},
          "execution_count": 24
        }
      ],
      "source": [
        "X = torch.rand(size=(num_steps, batch_size, len(vocab)))\n",
        "Y, state_new = rnn_layer(X, state)\n",
        "Y.shape, state_new.shape"
      ],
      "id": "63492c05"
    },
    {
      "cell_type": "markdown",
      "metadata": {
        "origin_pos": 18,
        "id": "1c5939f9"
      },
      "source": [
        "섹션 8.5와 마찬가지로 완전한 RNN 모델에 대한 `RNNModel` 클래스를 정의\u001d한다. \n",
        "\n",
        "`rnn_layer`에는 hidden recurrent layer만 포함되어 있으므로 별도의 output layer를 만들어야 한다."
      ],
      "id": "1c5939f9"
    },
    {
      "cell_type": "code",
      "execution_count": 25,
      "metadata": {
        "execution": {
          "iopub.execute_input": "2022-07-10T03:26:38.911340Z",
          "iopub.status.busy": "2022-07-10T03:26:38.910638Z",
          "iopub.status.idle": "2022-07-10T03:26:38.920134Z",
          "shell.execute_reply": "2022-07-10T03:26:38.919166Z"
        },
        "origin_pos": 20,
        "tab": [
          "pytorch"
        ],
        "id": "b01ace7c"
      },
      "outputs": [],
      "source": [
        "class RNNModel(nn.Module):\n",
        "    \"\"\"The RNN model.\"\"\"\n",
        "    def __init__(self, rnn_layer, vocab_size, **kwargs):\n",
        "        super(RNNModel, self).__init__(**kwargs)\n",
        "        self.rnn = rnn_layer\n",
        "        self.vocab_size = vocab_size\n",
        "        self.num_hiddens = self.rnn.hidden_size\n",
        "        # If the RNN is bidirectional (to be introduced later),\n",
        "        # `num_directions` should be 2, else it should be 1.\n",
        "        if not self.rnn.bidirectional:\n",
        "            self.num_directions = 1\n",
        "            self.linear = nn.Linear(self.num_hiddens, self.vocab_size)\n",
        "        else:\n",
        "            self.num_directions = 2\n",
        "            self.linear = nn.Linear(self.num_hiddens * 2, self.vocab_size)\n",
        "\n",
        "    def forward(self, inputs, state):\n",
        "        X = F.one_hot(inputs.T.long(), self.vocab_size)\n",
        "        X = X.to(torch.float32)\n",
        "        Y, state = self.rnn(X, state)\n",
        "        # The fully connected layer will first change the shape of `Y` to\n",
        "        # (`num_steps` * `batch_size`, `num_hiddens`). Its output shape is\n",
        "        # (`num_steps` * `batch_size`, `vocab_size`).\n",
        "        output = self.linear(Y.reshape((-1, Y.shape[-1])))\n",
        "        return output, state\n",
        "\n",
        "    def begin_state(self, device, batch_size=1):\n",
        "        if not isinstance(self.rnn, nn.LSTM):\n",
        "            # `nn.GRU` takes a tensor as hidden state\n",
        "            return  torch.zeros((self.num_directions * self.rnn.num_layers,\n",
        "                                 batch_size, self.num_hiddens),\n",
        "                                device=device)\n",
        "        else:\n",
        "            # `nn.LSTM` takes a tuple of hidden states\n",
        "            return (torch.zeros((\n",
        "                self.num_directions * self.rnn.num_layers,\n",
        "                batch_size, self.num_hiddens), device=device),\n",
        "                    torch.zeros((\n",
        "                        self.num_directions * self.rnn.num_layers,\n",
        "                        batch_size, self.num_hiddens), device=device))"
      ],
      "id": "b01ace7c"
    },
    {
      "cell_type": "markdown",
      "metadata": {
        "origin_pos": 22,
        "id": "0e1fc5ba"
      },
      "source": [
        "# Training and Predicting\n",
        "\n",
        "모델을 training하기 전에 random weight가 있는 모델을 사용하여 예측해 본다."
      ],
      "id": "0e1fc5ba"
    },
    {
      "cell_type": "code",
      "execution_count": 26,
      "metadata": {
        "execution": {
          "iopub.execute_input": "2022-07-10T03:26:38.923593Z",
          "iopub.status.busy": "2022-07-10T03:26:38.923041Z",
          "iopub.status.idle": "2022-07-10T03:26:42.250448Z",
          "shell.execute_reply": "2022-07-10T03:26:42.249332Z"
        },
        "origin_pos": 24,
        "tab": [
          "pytorch"
        ],
        "id": "3f5b5f89",
        "outputId": "52d0cb61-9d47-4703-c20a-a8133205d2d1",
        "colab": {
          "base_uri": "https://localhost:8080/",
          "height": 35
        }
      },
      "outputs": [
        {
          "output_type": "execute_result",
          "data": {
            "text/plain": [
              "'time travellerpjjspjupjj'"
            ],
            "application/vnd.google.colaboratory.intrinsic+json": {
              "type": "string"
            }
          },
          "metadata": {},
          "execution_count": 26
        }
      ],
      "source": [
        "device = d2l.try_gpu()\n",
        "net = RNNModel(rnn_layer, vocab_size=len(vocab))\n",
        "net = net.to(device)\n",
        "d2l.predict_ch8('time traveller', 10, net, vocab, device)"
      ],
      "id": "3f5b5f89"
    },
    {
      "cell_type": "markdown",
      "metadata": {
        "origin_pos": 26,
        "id": "322f55a3"
      },
      "source": [
        "분명히 이 모델은 작동하지 않는다. \n",
        "\n",
        "다음으로, 섹션 8.5에 정의된 것과 동일한 하이퍼 매개 변수를 사용하여 train_ch8을 호출하고 고급 API로 모델을 학습한다."
      ],
      "id": "322f55a3"
    },
    {
      "cell_type": "code",
      "execution_count": 27,
      "metadata": {
        "execution": {
          "iopub.execute_input": "2022-07-10T03:26:42.254337Z",
          "iopub.status.busy": "2022-07-10T03:26:42.253728Z",
          "iopub.status.idle": "2022-07-10T03:27:07.002970Z",
          "shell.execute_reply": "2022-07-10T03:27:07.001887Z"
        },
        "origin_pos": 28,
        "tab": [
          "pytorch"
        ],
        "id": "9865fce4",
        "outputId": "707dfd9f-3863-4de3-f633-e5bdc6d40b70",
        "colab": {
          "base_uri": "https://localhost:8080/",
          "height": 314
        }
      },
      "outputs": [
        {
          "output_type": "stream",
          "name": "stdout",
          "text": [
            "perplexity 1.4, 64243.3 tokens/sec on cpu\n",
            "time travellerit s agaidily rige cad reanthree dimensions but ho\n",
            "travelleridut if outhe thing on tho heot orlcout the thong \n"
          ]
        },
        {
          "output_type": "display_data",
          "data": {
            "text/plain": [
              "<Figure size 252x180 with 1 Axes>"
            ],
            "image/svg+xml": "<?xml version=\"1.0\" encoding=\"utf-8\" standalone=\"no\"?>\n<!DOCTYPE svg PUBLIC \"-//W3C//DTD SVG 1.1//EN\"\n  \"http://www.w3.org/Graphics/SVG/1.1/DTD/svg11.dtd\">\n<svg xmlns:xlink=\"http://www.w3.org/1999/xlink\" width=\"252.646875pt\" height=\"180.65625pt\" viewBox=\"0 0 252.646875 180.65625\" xmlns=\"http://www.w3.org/2000/svg\" version=\"1.1\">\n <metadata>\n  <rdf:RDF xmlns:dc=\"http://purl.org/dc/elements/1.1/\" xmlns:cc=\"http://creativecommons.org/ns#\" xmlns:rdf=\"http://www.w3.org/1999/02/22-rdf-syntax-ns#\">\n   <cc:Work>\n    <dc:type rdf:resource=\"http://purl.org/dc/dcmitype/StillImage\"/>\n    <dc:date>2022-07-14T15:37:33.730430</dc:date>\n    <dc:format>image/svg+xml</dc:format>\n    <dc:creator>\n     <cc:Agent>\n      <dc:title>Matplotlib v3.5.1, https://matplotlib.org/</dc:title>\n     </cc:Agent>\n    </dc:creator>\n   </cc:Work>\n  </rdf:RDF>\n </metadata>\n <defs>\n  <style type=\"text/css\">*{stroke-linejoin: round; stroke-linecap: butt}</style>\n </defs>\n <g id=\"figure_1\">\n  <g id=\"patch_1\">\n   <path d=\"M 0 180.65625 \nL 252.646875 180.65625 \nL 252.646875 0 \nL 0 0 \nL 0 180.65625 \nz\n\" style=\"fill: none\"/>\n  </g>\n  <g id=\"axes_1\">\n   <g id=\"patch_2\">\n    <path d=\"M 40.603125 143.1 \nL 235.903125 143.1 \nL 235.903125 7.2 \nL 40.603125 7.2 \nz\n\" style=\"fill: #ffffff\"/>\n   </g>\n   <g id=\"matplotlib.axis_1\">\n    <g id=\"xtick_1\">\n     <g id=\"line2d_1\">\n      <path d=\"M 76.474554 143.1 \nL 76.474554 7.2 \n\" clip-path=\"url(#pcaf1e6efcf)\" style=\"fill: none; stroke: #b0b0b0; stroke-width: 0.8; stroke-linecap: square\"/>\n     </g>\n     <g id=\"line2d_2\">\n      <defs>\n       <path id=\"maba1fac2b2\" d=\"M 0 0 \nL 0 3.5 \n\" style=\"stroke: #000000; stroke-width: 0.8\"/>\n      </defs>\n      <g>\n       <use xlink:href=\"#maba1fac2b2\" x=\"76.474554\" y=\"143.1\" style=\"stroke: #000000; stroke-width: 0.8\"/>\n      </g>\n     </g>\n     <g id=\"text_1\">\n      <!-- 100 -->\n      <g transform=\"translate(66.930804 157.698438)scale(0.1 -0.1)\">\n       <defs>\n        <path id=\"DejaVuSans-31\" d=\"M 794 531 \nL 1825 531 \nL 1825 4091 \nL 703 3866 \nL 703 4441 \nL 1819 4666 \nL 2450 4666 \nL 2450 531 \nL 3481 531 \nL 3481 0 \nL 794 0 \nL 794 531 \nz\n\" transform=\"scale(0.015625)\"/>\n        <path id=\"DejaVuSans-30\" d=\"M 2034 4250 \nQ 1547 4250 1301 3770 \nQ 1056 3291 1056 2328 \nQ 1056 1369 1301 889 \nQ 1547 409 2034 409 \nQ 2525 409 2770 889 \nQ 3016 1369 3016 2328 \nQ 3016 3291 2770 3770 \nQ 2525 4250 2034 4250 \nz\nM 2034 4750 \nQ 2819 4750 3233 4129 \nQ 3647 3509 3647 2328 \nQ 3647 1150 3233 529 \nQ 2819 -91 2034 -91 \nQ 1250 -91 836 529 \nQ 422 1150 422 2328 \nQ 422 3509 836 4129 \nQ 1250 4750 2034 4750 \nz\n\" transform=\"scale(0.015625)\"/>\n       </defs>\n       <use xlink:href=\"#DejaVuSans-31\"/>\n       <use xlink:href=\"#DejaVuSans-30\" x=\"63.623047\"/>\n       <use xlink:href=\"#DejaVuSans-30\" x=\"127.246094\"/>\n      </g>\n     </g>\n    </g>\n    <g id=\"xtick_2\">\n     <g id=\"line2d_3\">\n      <path d=\"M 116.331696 143.1 \nL 116.331696 7.2 \n\" clip-path=\"url(#pcaf1e6efcf)\" style=\"fill: none; stroke: #b0b0b0; stroke-width: 0.8; stroke-linecap: square\"/>\n     </g>\n     <g id=\"line2d_4\">\n      <g>\n       <use xlink:href=\"#maba1fac2b2\" x=\"116.331696\" y=\"143.1\" style=\"stroke: #000000; stroke-width: 0.8\"/>\n      </g>\n     </g>\n     <g id=\"text_2\">\n      <!-- 200 -->\n      <g transform=\"translate(106.787946 157.698438)scale(0.1 -0.1)\">\n       <defs>\n        <path id=\"DejaVuSans-32\" d=\"M 1228 531 \nL 3431 531 \nL 3431 0 \nL 469 0 \nL 469 531 \nQ 828 903 1448 1529 \nQ 2069 2156 2228 2338 \nQ 2531 2678 2651 2914 \nQ 2772 3150 2772 3378 \nQ 2772 3750 2511 3984 \nQ 2250 4219 1831 4219 \nQ 1534 4219 1204 4116 \nQ 875 4013 500 3803 \nL 500 4441 \nQ 881 4594 1212 4672 \nQ 1544 4750 1819 4750 \nQ 2544 4750 2975 4387 \nQ 3406 4025 3406 3419 \nQ 3406 3131 3298 2873 \nQ 3191 2616 2906 2266 \nQ 2828 2175 2409 1742 \nQ 1991 1309 1228 531 \nz\n\" transform=\"scale(0.015625)\"/>\n       </defs>\n       <use xlink:href=\"#DejaVuSans-32\"/>\n       <use xlink:href=\"#DejaVuSans-30\" x=\"63.623047\"/>\n       <use xlink:href=\"#DejaVuSans-30\" x=\"127.246094\"/>\n      </g>\n     </g>\n    </g>\n    <g id=\"xtick_3\">\n     <g id=\"line2d_5\">\n      <path d=\"M 156.188839 143.1 \nL 156.188839 7.2 \n\" clip-path=\"url(#pcaf1e6efcf)\" style=\"fill: none; stroke: #b0b0b0; stroke-width: 0.8; stroke-linecap: square\"/>\n     </g>\n     <g id=\"line2d_6\">\n      <g>\n       <use xlink:href=\"#maba1fac2b2\" x=\"156.188839\" y=\"143.1\" style=\"stroke: #000000; stroke-width: 0.8\"/>\n      </g>\n     </g>\n     <g id=\"text_3\">\n      <!-- 300 -->\n      <g transform=\"translate(146.645089 157.698438)scale(0.1 -0.1)\">\n       <defs>\n        <path id=\"DejaVuSans-33\" d=\"M 2597 2516 \nQ 3050 2419 3304 2112 \nQ 3559 1806 3559 1356 \nQ 3559 666 3084 287 \nQ 2609 -91 1734 -91 \nQ 1441 -91 1130 -33 \nQ 819 25 488 141 \nL 488 750 \nQ 750 597 1062 519 \nQ 1375 441 1716 441 \nQ 2309 441 2620 675 \nQ 2931 909 2931 1356 \nQ 2931 1769 2642 2001 \nQ 2353 2234 1838 2234 \nL 1294 2234 \nL 1294 2753 \nL 1863 2753 \nQ 2328 2753 2575 2939 \nQ 2822 3125 2822 3475 \nQ 2822 3834 2567 4026 \nQ 2313 4219 1838 4219 \nQ 1578 4219 1281 4162 \nQ 984 4106 628 3988 \nL 628 4550 \nQ 988 4650 1302 4700 \nQ 1616 4750 1894 4750 \nQ 2613 4750 3031 4423 \nQ 3450 4097 3450 3541 \nQ 3450 3153 3228 2886 \nQ 3006 2619 2597 2516 \nz\n\" transform=\"scale(0.015625)\"/>\n       </defs>\n       <use xlink:href=\"#DejaVuSans-33\"/>\n       <use xlink:href=\"#DejaVuSans-30\" x=\"63.623047\"/>\n       <use xlink:href=\"#DejaVuSans-30\" x=\"127.246094\"/>\n      </g>\n     </g>\n    </g>\n    <g id=\"xtick_4\">\n     <g id=\"line2d_7\">\n      <path d=\"M 196.045982 143.1 \nL 196.045982 7.2 \n\" clip-path=\"url(#pcaf1e6efcf)\" style=\"fill: none; stroke: #b0b0b0; stroke-width: 0.8; stroke-linecap: square\"/>\n     </g>\n     <g id=\"line2d_8\">\n      <g>\n       <use xlink:href=\"#maba1fac2b2\" x=\"196.045982\" y=\"143.1\" style=\"stroke: #000000; stroke-width: 0.8\"/>\n      </g>\n     </g>\n     <g id=\"text_4\">\n      <!-- 400 -->\n      <g transform=\"translate(186.502232 157.698438)scale(0.1 -0.1)\">\n       <defs>\n        <path id=\"DejaVuSans-34\" d=\"M 2419 4116 \nL 825 1625 \nL 2419 1625 \nL 2419 4116 \nz\nM 2253 4666 \nL 3047 4666 \nL 3047 1625 \nL 3713 1625 \nL 3713 1100 \nL 3047 1100 \nL 3047 0 \nL 2419 0 \nL 2419 1100 \nL 313 1100 \nL 313 1709 \nL 2253 4666 \nz\n\" transform=\"scale(0.015625)\"/>\n       </defs>\n       <use xlink:href=\"#DejaVuSans-34\"/>\n       <use xlink:href=\"#DejaVuSans-30\" x=\"63.623047\"/>\n       <use xlink:href=\"#DejaVuSans-30\" x=\"127.246094\"/>\n      </g>\n     </g>\n    </g>\n    <g id=\"xtick_5\">\n     <g id=\"line2d_9\">\n      <path d=\"M 235.903125 143.1 \nL 235.903125 7.2 \n\" clip-path=\"url(#pcaf1e6efcf)\" style=\"fill: none; stroke: #b0b0b0; stroke-width: 0.8; stroke-linecap: square\"/>\n     </g>\n     <g id=\"line2d_10\">\n      <g>\n       <use xlink:href=\"#maba1fac2b2\" x=\"235.903125\" y=\"143.1\" style=\"stroke: #000000; stroke-width: 0.8\"/>\n      </g>\n     </g>\n     <g id=\"text_5\">\n      <!-- 500 -->\n      <g transform=\"translate(226.359375 157.698438)scale(0.1 -0.1)\">\n       <defs>\n        <path id=\"DejaVuSans-35\" d=\"M 691 4666 \nL 3169 4666 \nL 3169 4134 \nL 1269 4134 \nL 1269 2991 \nQ 1406 3038 1543 3061 \nQ 1681 3084 1819 3084 \nQ 2600 3084 3056 2656 \nQ 3513 2228 3513 1497 \nQ 3513 744 3044 326 \nQ 2575 -91 1722 -91 \nQ 1428 -91 1123 -41 \nQ 819 9 494 109 \nL 494 744 \nQ 775 591 1075 516 \nQ 1375 441 1709 441 \nQ 2250 441 2565 725 \nQ 2881 1009 2881 1497 \nQ 2881 1984 2565 2268 \nQ 2250 2553 1709 2553 \nQ 1456 2553 1204 2497 \nQ 953 2441 691 2322 \nL 691 4666 \nz\n\" transform=\"scale(0.015625)\"/>\n       </defs>\n       <use xlink:href=\"#DejaVuSans-35\"/>\n       <use xlink:href=\"#DejaVuSans-30\" x=\"63.623047\"/>\n       <use xlink:href=\"#DejaVuSans-30\" x=\"127.246094\"/>\n      </g>\n     </g>\n    </g>\n    <g id=\"text_6\">\n     <!-- epoch -->\n     <g transform=\"translate(123.025 171.376563)scale(0.1 -0.1)\">\n      <defs>\n       <path id=\"DejaVuSans-65\" d=\"M 3597 1894 \nL 3597 1613 \nL 953 1613 \nQ 991 1019 1311 708 \nQ 1631 397 2203 397 \nQ 2534 397 2845 478 \nQ 3156 559 3463 722 \nL 3463 178 \nQ 3153 47 2828 -22 \nQ 2503 -91 2169 -91 \nQ 1331 -91 842 396 \nQ 353 884 353 1716 \nQ 353 2575 817 3079 \nQ 1281 3584 2069 3584 \nQ 2775 3584 3186 3129 \nQ 3597 2675 3597 1894 \nz\nM 3022 2063 \nQ 3016 2534 2758 2815 \nQ 2500 3097 2075 3097 \nQ 1594 3097 1305 2825 \nQ 1016 2553 972 2059 \nL 3022 2063 \nz\n\" transform=\"scale(0.015625)\"/>\n       <path id=\"DejaVuSans-70\" d=\"M 1159 525 \nL 1159 -1331 \nL 581 -1331 \nL 581 3500 \nL 1159 3500 \nL 1159 2969 \nQ 1341 3281 1617 3432 \nQ 1894 3584 2278 3584 \nQ 2916 3584 3314 3078 \nQ 3713 2572 3713 1747 \nQ 3713 922 3314 415 \nQ 2916 -91 2278 -91 \nQ 1894 -91 1617 61 \nQ 1341 213 1159 525 \nz\nM 3116 1747 \nQ 3116 2381 2855 2742 \nQ 2594 3103 2138 3103 \nQ 1681 3103 1420 2742 \nQ 1159 2381 1159 1747 \nQ 1159 1113 1420 752 \nQ 1681 391 2138 391 \nQ 2594 391 2855 752 \nQ 3116 1113 3116 1747 \nz\n\" transform=\"scale(0.015625)\"/>\n       <path id=\"DejaVuSans-6f\" d=\"M 1959 3097 \nQ 1497 3097 1228 2736 \nQ 959 2375 959 1747 \nQ 959 1119 1226 758 \nQ 1494 397 1959 397 \nQ 2419 397 2687 759 \nQ 2956 1122 2956 1747 \nQ 2956 2369 2687 2733 \nQ 2419 3097 1959 3097 \nz\nM 1959 3584 \nQ 2709 3584 3137 3096 \nQ 3566 2609 3566 1747 \nQ 3566 888 3137 398 \nQ 2709 -91 1959 -91 \nQ 1206 -91 779 398 \nQ 353 888 353 1747 \nQ 353 2609 779 3096 \nQ 1206 3584 1959 3584 \nz\n\" transform=\"scale(0.015625)\"/>\n       <path id=\"DejaVuSans-63\" d=\"M 3122 3366 \nL 3122 2828 \nQ 2878 2963 2633 3030 \nQ 2388 3097 2138 3097 \nQ 1578 3097 1268 2742 \nQ 959 2388 959 1747 \nQ 959 1106 1268 751 \nQ 1578 397 2138 397 \nQ 2388 397 2633 464 \nQ 2878 531 3122 666 \nL 3122 134 \nQ 2881 22 2623 -34 \nQ 2366 -91 2075 -91 \nQ 1284 -91 818 406 \nQ 353 903 353 1747 \nQ 353 2603 823 3093 \nQ 1294 3584 2113 3584 \nQ 2378 3584 2631 3529 \nQ 2884 3475 3122 3366 \nz\n\" transform=\"scale(0.015625)\"/>\n       <path id=\"DejaVuSans-68\" d=\"M 3513 2113 \nL 3513 0 \nL 2938 0 \nL 2938 2094 \nQ 2938 2591 2744 2837 \nQ 2550 3084 2163 3084 \nQ 1697 3084 1428 2787 \nQ 1159 2491 1159 1978 \nL 1159 0 \nL 581 0 \nL 581 4863 \nL 1159 4863 \nL 1159 2956 \nQ 1366 3272 1645 3428 \nQ 1925 3584 2291 3584 \nQ 2894 3584 3203 3211 \nQ 3513 2838 3513 2113 \nz\n\" transform=\"scale(0.015625)\"/>\n      </defs>\n      <use xlink:href=\"#DejaVuSans-65\"/>\n      <use xlink:href=\"#DejaVuSans-70\" x=\"61.523438\"/>\n      <use xlink:href=\"#DejaVuSans-6f\" x=\"125\"/>\n      <use xlink:href=\"#DejaVuSans-63\" x=\"186.181641\"/>\n      <use xlink:href=\"#DejaVuSans-68\" x=\"241.162109\"/>\n     </g>\n    </g>\n   </g>\n   <g id=\"matplotlib.axis_2\">\n    <g id=\"ytick_1\">\n     <g id=\"line2d_11\">\n      <path d=\"M 40.603125 128.018503 \nL 235.903125 128.018503 \n\" clip-path=\"url(#pcaf1e6efcf)\" style=\"fill: none; stroke: #b0b0b0; stroke-width: 0.8; stroke-linecap: square\"/>\n     </g>\n     <g id=\"line2d_12\">\n      <defs>\n       <path id=\"mbb77d5210e\" d=\"M 0 0 \nL -3.5 0 \n\" style=\"stroke: #000000; stroke-width: 0.8\"/>\n      </defs>\n      <g>\n       <use xlink:href=\"#mbb77d5210e\" x=\"40.603125\" y=\"128.018503\" style=\"stroke: #000000; stroke-width: 0.8\"/>\n      </g>\n     </g>\n     <g id=\"text_7\">\n      <!-- 2 -->\n      <g transform=\"translate(27.240625 131.817721)scale(0.1 -0.1)\">\n       <use xlink:href=\"#DejaVuSans-32\"/>\n      </g>\n     </g>\n    </g>\n    <g id=\"ytick_2\">\n     <g id=\"line2d_13\">\n      <path d=\"M 40.603125 103.18796 \nL 235.903125 103.18796 \n\" clip-path=\"url(#pcaf1e6efcf)\" style=\"fill: none; stroke: #b0b0b0; stroke-width: 0.8; stroke-linecap: square\"/>\n     </g>\n     <g id=\"line2d_14\">\n      <g>\n       <use xlink:href=\"#mbb77d5210e\" x=\"40.603125\" y=\"103.18796\" style=\"stroke: #000000; stroke-width: 0.8\"/>\n      </g>\n     </g>\n     <g id=\"text_8\">\n      <!-- 4 -->\n      <g transform=\"translate(27.240625 106.987179)scale(0.1 -0.1)\">\n       <use xlink:href=\"#DejaVuSans-34\"/>\n      </g>\n     </g>\n    </g>\n    <g id=\"ytick_3\">\n     <g id=\"line2d_15\">\n      <path d=\"M 40.603125 78.357417 \nL 235.903125 78.357417 \n\" clip-path=\"url(#pcaf1e6efcf)\" style=\"fill: none; stroke: #b0b0b0; stroke-width: 0.8; stroke-linecap: square\"/>\n     </g>\n     <g id=\"line2d_16\">\n      <g>\n       <use xlink:href=\"#mbb77d5210e\" x=\"40.603125\" y=\"78.357417\" style=\"stroke: #000000; stroke-width: 0.8\"/>\n      </g>\n     </g>\n     <g id=\"text_9\">\n      <!-- 6 -->\n      <g transform=\"translate(27.240625 82.156636)scale(0.1 -0.1)\">\n       <defs>\n        <path id=\"DejaVuSans-36\" d=\"M 2113 2584 \nQ 1688 2584 1439 2293 \nQ 1191 2003 1191 1497 \nQ 1191 994 1439 701 \nQ 1688 409 2113 409 \nQ 2538 409 2786 701 \nQ 3034 994 3034 1497 \nQ 3034 2003 2786 2293 \nQ 2538 2584 2113 2584 \nz\nM 3366 4563 \nL 3366 3988 \nQ 3128 4100 2886 4159 \nQ 2644 4219 2406 4219 \nQ 1781 4219 1451 3797 \nQ 1122 3375 1075 2522 \nQ 1259 2794 1537 2939 \nQ 1816 3084 2150 3084 \nQ 2853 3084 3261 2657 \nQ 3669 2231 3669 1497 \nQ 3669 778 3244 343 \nQ 2819 -91 2113 -91 \nQ 1303 -91 875 529 \nQ 447 1150 447 2328 \nQ 447 3434 972 4092 \nQ 1497 4750 2381 4750 \nQ 2619 4750 2861 4703 \nQ 3103 4656 3366 4563 \nz\n\" transform=\"scale(0.015625)\"/>\n       </defs>\n       <use xlink:href=\"#DejaVuSans-36\"/>\n      </g>\n     </g>\n    </g>\n    <g id=\"ytick_4\">\n     <g id=\"line2d_17\">\n      <path d=\"M 40.603125 53.526874 \nL 235.903125 53.526874 \n\" clip-path=\"url(#pcaf1e6efcf)\" style=\"fill: none; stroke: #b0b0b0; stroke-width: 0.8; stroke-linecap: square\"/>\n     </g>\n     <g id=\"line2d_18\">\n      <g>\n       <use xlink:href=\"#mbb77d5210e\" x=\"40.603125\" y=\"53.526874\" style=\"stroke: #000000; stroke-width: 0.8\"/>\n      </g>\n     </g>\n     <g id=\"text_10\">\n      <!-- 8 -->\n      <g transform=\"translate(27.240625 57.326093)scale(0.1 -0.1)\">\n       <defs>\n        <path id=\"DejaVuSans-38\" d=\"M 2034 2216 \nQ 1584 2216 1326 1975 \nQ 1069 1734 1069 1313 \nQ 1069 891 1326 650 \nQ 1584 409 2034 409 \nQ 2484 409 2743 651 \nQ 3003 894 3003 1313 \nQ 3003 1734 2745 1975 \nQ 2488 2216 2034 2216 \nz\nM 1403 2484 \nQ 997 2584 770 2862 \nQ 544 3141 544 3541 \nQ 544 4100 942 4425 \nQ 1341 4750 2034 4750 \nQ 2731 4750 3128 4425 \nQ 3525 4100 3525 3541 \nQ 3525 3141 3298 2862 \nQ 3072 2584 2669 2484 \nQ 3125 2378 3379 2068 \nQ 3634 1759 3634 1313 \nQ 3634 634 3220 271 \nQ 2806 -91 2034 -91 \nQ 1263 -91 848 271 \nQ 434 634 434 1313 \nQ 434 1759 690 2068 \nQ 947 2378 1403 2484 \nz\nM 1172 3481 \nQ 1172 3119 1398 2916 \nQ 1625 2713 2034 2713 \nQ 2441 2713 2670 2916 \nQ 2900 3119 2900 3481 \nQ 2900 3844 2670 4047 \nQ 2441 4250 2034 4250 \nQ 1625 4250 1398 4047 \nQ 1172 3844 1172 3481 \nz\n\" transform=\"scale(0.015625)\"/>\n       </defs>\n       <use xlink:href=\"#DejaVuSans-38\"/>\n      </g>\n     </g>\n    </g>\n    <g id=\"ytick_5\">\n     <g id=\"line2d_19\">\n      <path d=\"M 40.603125 28.696332 \nL 235.903125 28.696332 \n\" clip-path=\"url(#pcaf1e6efcf)\" style=\"fill: none; stroke: #b0b0b0; stroke-width: 0.8; stroke-linecap: square\"/>\n     </g>\n     <g id=\"line2d_20\">\n      <g>\n       <use xlink:href=\"#mbb77d5210e\" x=\"40.603125\" y=\"28.696332\" style=\"stroke: #000000; stroke-width: 0.8\"/>\n      </g>\n     </g>\n     <g id=\"text_11\">\n      <!-- 10 -->\n      <g transform=\"translate(20.878125 32.495551)scale(0.1 -0.1)\">\n       <use xlink:href=\"#DejaVuSans-31\"/>\n       <use xlink:href=\"#DejaVuSans-30\" x=\"63.623047\"/>\n      </g>\n     </g>\n    </g>\n    <g id=\"text_12\">\n     <!-- perplexity -->\n     <g transform=\"translate(14.798437 100.276562)rotate(-90)scale(0.1 -0.1)\">\n      <defs>\n       <path id=\"DejaVuSans-72\" d=\"M 2631 2963 \nQ 2534 3019 2420 3045 \nQ 2306 3072 2169 3072 \nQ 1681 3072 1420 2755 \nQ 1159 2438 1159 1844 \nL 1159 0 \nL 581 0 \nL 581 3500 \nL 1159 3500 \nL 1159 2956 \nQ 1341 3275 1631 3429 \nQ 1922 3584 2338 3584 \nQ 2397 3584 2469 3576 \nQ 2541 3569 2628 3553 \nL 2631 2963 \nz\n\" transform=\"scale(0.015625)\"/>\n       <path id=\"DejaVuSans-6c\" d=\"M 603 4863 \nL 1178 4863 \nL 1178 0 \nL 603 0 \nL 603 4863 \nz\n\" transform=\"scale(0.015625)\"/>\n       <path id=\"DejaVuSans-78\" d=\"M 3513 3500 \nL 2247 1797 \nL 3578 0 \nL 2900 0 \nL 1881 1375 \nL 863 0 \nL 184 0 \nL 1544 1831 \nL 300 3500 \nL 978 3500 \nL 1906 2253 \nL 2834 3500 \nL 3513 3500 \nz\n\" transform=\"scale(0.015625)\"/>\n       <path id=\"DejaVuSans-69\" d=\"M 603 3500 \nL 1178 3500 \nL 1178 0 \nL 603 0 \nL 603 3500 \nz\nM 603 4863 \nL 1178 4863 \nL 1178 4134 \nL 603 4134 \nL 603 4863 \nz\n\" transform=\"scale(0.015625)\"/>\n       <path id=\"DejaVuSans-74\" d=\"M 1172 4494 \nL 1172 3500 \nL 2356 3500 \nL 2356 3053 \nL 1172 3053 \nL 1172 1153 \nQ 1172 725 1289 603 \nQ 1406 481 1766 481 \nL 2356 481 \nL 2356 0 \nL 1766 0 \nQ 1100 0 847 248 \nQ 594 497 594 1153 \nL 594 3053 \nL 172 3053 \nL 172 3500 \nL 594 3500 \nL 594 4494 \nL 1172 4494 \nz\n\" transform=\"scale(0.015625)\"/>\n       <path id=\"DejaVuSans-79\" d=\"M 2059 -325 \nQ 1816 -950 1584 -1140 \nQ 1353 -1331 966 -1331 \nL 506 -1331 \nL 506 -850 \nL 844 -850 \nQ 1081 -850 1212 -737 \nQ 1344 -625 1503 -206 \nL 1606 56 \nL 191 3500 \nL 800 3500 \nL 1894 763 \nL 2988 3500 \nL 3597 3500 \nL 2059 -325 \nz\n\" transform=\"scale(0.015625)\"/>\n      </defs>\n      <use xlink:href=\"#DejaVuSans-70\"/>\n      <use xlink:href=\"#DejaVuSans-65\" x=\"63.476562\"/>\n      <use xlink:href=\"#DejaVuSans-72\" x=\"125\"/>\n      <use xlink:href=\"#DejaVuSans-70\" x=\"166.113281\"/>\n      <use xlink:href=\"#DejaVuSans-6c\" x=\"229.589844\"/>\n      <use xlink:href=\"#DejaVuSans-65\" x=\"257.373047\"/>\n      <use xlink:href=\"#DejaVuSans-78\" x=\"317.146484\"/>\n      <use xlink:href=\"#DejaVuSans-69\" x=\"376.326172\"/>\n      <use xlink:href=\"#DejaVuSans-74\" x=\"404.109375\"/>\n      <use xlink:href=\"#DejaVuSans-79\" x=\"443.318359\"/>\n     </g>\n    </g>\n   </g>\n   <g id=\"line2d_21\">\n    <path d=\"M 40.603125 13.377273 \nL 44.588839 36.684667 \nL 48.574554 49.201803 \nL 52.560268 53.554998 \nL 56.545982 60.431466 \nL 60.531696 66.531016 \nL 64.517411 77.715991 \nL 68.503125 83.611724 \nL 72.488839 96.283137 \nL 76.474554 104.953746 \nL 80.460268 113.110505 \nL 84.445982 118.000588 \nL 88.431696 121.954677 \nL 92.417411 124.949534 \nL 96.403125 127.325135 \nL 100.388839 127.837131 \nL 104.374554 130.341694 \nL 108.360268 131.847185 \nL 112.345982 132.285021 \nL 116.331696 132.559683 \nL 120.317411 133.501864 \nL 124.303125 133.965524 \nL 128.288839 134.343407 \nL 132.274554 133.936659 \nL 136.260268 134.501803 \nL 140.245982 134.652873 \nL 144.231696 135.156127 \nL 148.217411 134.982519 \nL 152.203125 136.047003 \nL 156.188839 135.738342 \nL 160.174554 135.700717 \nL 164.160268 135.619105 \nL 168.145982 135.149064 \nL 172.131696 136.326778 \nL 176.117411 135.402724 \nL 180.103125 135.646736 \nL 184.088839 135.810892 \nL 188.074554 136.677981 \nL 192.060268 136.196071 \nL 196.045982 136.178706 \nL 200.031696 136.743054 \nL 204.017411 136.472606 \nL 208.003125 136.801662 \nL 211.988839 136.623771 \nL 215.974554 136.72535 \nL 219.960268 136.456184 \nL 223.945982 136.315772 \nL 227.931696 136.822673 \nL 231.917411 136.922727 \nL 235.903125 135.8666 \n\" clip-path=\"url(#pcaf1e6efcf)\" style=\"fill: none; stroke: #1f77b4; stroke-width: 1.5; stroke-linecap: square\"/>\n   </g>\n   <g id=\"patch_3\">\n    <path d=\"M 40.603125 143.1 \nL 40.603125 7.2 \n\" style=\"fill: none; stroke: #000000; stroke-width: 0.8; stroke-linejoin: miter; stroke-linecap: square\"/>\n   </g>\n   <g id=\"patch_4\">\n    <path d=\"M 235.903125 143.1 \nL 235.903125 7.2 \n\" style=\"fill: none; stroke: #000000; stroke-width: 0.8; stroke-linejoin: miter; stroke-linecap: square\"/>\n   </g>\n   <g id=\"patch_5\">\n    <path d=\"M 40.603125 143.1 \nL 235.903125 143.1 \n\" style=\"fill: none; stroke: #000000; stroke-width: 0.8; stroke-linejoin: miter; stroke-linecap: square\"/>\n   </g>\n   <g id=\"patch_6\">\n    <path d=\"M 40.603125 7.2 \nL 235.903125 7.2 \n\" style=\"fill: none; stroke: #000000; stroke-width: 0.8; stroke-linejoin: miter; stroke-linecap: square\"/>\n   </g>\n   <g id=\"legend_1\">\n    <g id=\"patch_7\">\n     <path d=\"M 173.628125 29.878125 \nL 228.903125 29.878125 \nQ 230.903125 29.878125 230.903125 27.878125 \nL 230.903125 14.2 \nQ 230.903125 12.2 228.903125 12.2 \nL 173.628125 12.2 \nQ 171.628125 12.2 171.628125 14.2 \nL 171.628125 27.878125 \nQ 171.628125 29.878125 173.628125 29.878125 \nz\n\" style=\"fill: #ffffff; opacity: 0.8; stroke: #cccccc; stroke-linejoin: miter\"/>\n    </g>\n    <g id=\"line2d_22\">\n     <path d=\"M 175.628125 20.298437 \nL 185.628125 20.298437 \nL 195.628125 20.298437 \n\" style=\"fill: none; stroke: #1f77b4; stroke-width: 1.5; stroke-linecap: square\"/>\n    </g>\n    <g id=\"text_13\">\n     <!-- train -->\n     <g transform=\"translate(203.628125 23.798437)scale(0.1 -0.1)\">\n      <defs>\n       <path id=\"DejaVuSans-61\" d=\"M 2194 1759 \nQ 1497 1759 1228 1600 \nQ 959 1441 959 1056 \nQ 959 750 1161 570 \nQ 1363 391 1709 391 \nQ 2188 391 2477 730 \nQ 2766 1069 2766 1631 \nL 2766 1759 \nL 2194 1759 \nz\nM 3341 1997 \nL 3341 0 \nL 2766 0 \nL 2766 531 \nQ 2569 213 2275 61 \nQ 1981 -91 1556 -91 \nQ 1019 -91 701 211 \nQ 384 513 384 1019 \nQ 384 1609 779 1909 \nQ 1175 2209 1959 2209 \nL 2766 2209 \nL 2766 2266 \nQ 2766 2663 2505 2880 \nQ 2244 3097 1772 3097 \nQ 1472 3097 1187 3025 \nQ 903 2953 641 2809 \nL 641 3341 \nQ 956 3463 1253 3523 \nQ 1550 3584 1831 3584 \nQ 2591 3584 2966 3190 \nQ 3341 2797 3341 1997 \nz\n\" transform=\"scale(0.015625)\"/>\n       <path id=\"DejaVuSans-6e\" d=\"M 3513 2113 \nL 3513 0 \nL 2938 0 \nL 2938 2094 \nQ 2938 2591 2744 2837 \nQ 2550 3084 2163 3084 \nQ 1697 3084 1428 2787 \nQ 1159 2491 1159 1978 \nL 1159 0 \nL 581 0 \nL 581 3500 \nL 1159 3500 \nL 1159 2956 \nQ 1366 3272 1645 3428 \nQ 1925 3584 2291 3584 \nQ 2894 3584 3203 3211 \nQ 3513 2838 3513 2113 \nz\n\" transform=\"scale(0.015625)\"/>\n      </defs>\n      <use xlink:href=\"#DejaVuSans-74\"/>\n      <use xlink:href=\"#DejaVuSans-72\" x=\"39.208984\"/>\n      <use xlink:href=\"#DejaVuSans-61\" x=\"80.322266\"/>\n      <use xlink:href=\"#DejaVuSans-69\" x=\"141.601562\"/>\n      <use xlink:href=\"#DejaVuSans-6e\" x=\"169.384766\"/>\n     </g>\n    </g>\n   </g>\n  </g>\n </g>\n <defs>\n  <clipPath id=\"pcaf1e6efcf\">\n   <rect x=\"40.603125\" y=\"7.2\" width=\"195.3\" height=\"135.9\"/>\n  </clipPath>\n </defs>\n</svg>\n"
          },
          "metadata": {
            "needs_background": "light"
          }
        }
      ],
      "source": [
        "num_epochs, lr = 500, 1\n",
        "d2l.train_ch8(net, train_iter, vocab, lr, num_epochs, device)"
      ],
      "id": "9865fce4"
    },
    {
      "cell_type": "markdown",
      "source": [
        "지난 섹션과 비교했을 때, 이 모델은 심층 학습 프레임 워크의 고급 API에 의해 코드가 보다 최적화되어 있기 때문에 짧은 시간 내에 comparable한 perplexity으로 도달한다."
      ],
      "metadata": {
        "id": "ykHzGlvp3LK2"
      },
      "id": "ykHzGlvp3LK2"
    },
    {
      "cell_type": "markdown",
      "metadata": {
        "origin_pos": 30,
        "id": "bcd9c849"
      },
      "source": [
        "# Summary\n",
        "\n",
        "* deep learning framework의 High-level API는 RNN layer의 구현을 제공한다.\n",
        "* High-level API의 RNN layer\u001d는 output과 업데이트된 hidden state를 반환합니다. 여기서 output은 output layer의 계산을 포함하지 않습니다.\n",
        "* High-level API를 사용하면 처음부터 구현을 사용하는 것보다 RNN training이 더 빠르다."
      ],
      "id": "bcd9c849"
    },
    {
      "cell_type": "markdown",
      "metadata": {
        "origin_pos": 0,
        "id": "7845ee8f"
      },
      "source": [
        "# Backpropagation Through Time, BPTT\n",
        "\n",
        "RNN은 기존 신경망의 역전파(backprop)와는 달리 time step별로 네트워크를 펼친 다음, 역전파 알고리즘을 사용하는데 이를 BPTT(BackPropagation Through Time)라고 한다. \n",
        "\n",
        "BPTT 또한 일반적인 역전파와 같이 먼저 순전파(forward prop)로 각 타임 스텝별 시퀀스를 출력한다. 그런다음 이 출력 시퀀스와 손실(비용)함수를 사용하여 각 타임 스텝별 Loss를 구한다. 그리고 손실 함수의 그래디언트는 아래의 그림과 같이 펼쳐진 네트워크를 따라 역방향으로 전파된다. BPTT는 그래디언트가 마지막 타임 스텝인 출력뿐만 아니라 손실함수를 사용한 모든 출력에서 역방향으로 전파된다.\n",
        "\n",
        "RNN은 각 타임 스텝마다 같은 parameter가 사용되기 때문에 역전파가 진행되면서 모든 타임 스텝에 걸쳐 parameter 값이 합산된다. 이렇게 업데이트된 가중치는 순전파 동안에는 모든 타임 스텝에 동일한 가중치가 적용된다."
      ],
      "id": "7845ee8f"
    },
    {
      "cell_type": "markdown",
      "source": [
        "![다운로드.png](data:image/png;base64,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)"
      ],
      "metadata": {
        "id": "PycpLAUqBb_f"
      },
      "id": "PycpLAUqBb_f"
    },
    {
      "cell_type": "markdown",
      "source": [
        "## Analysis of Gradients in RNNs\n",
        "\n",
        "RNN이 어떻게 작동하는지에 대한 단순화 된 모델로 시작한다. 이 모델은 hidden state의 세부 정보와 업데이트 방법에 대한 세부 정보를 무시한다. 여기서 수학 표기법은 예전처럼 스칼라, 벡터 및 행렬을 명시적으로 구별하지 않는다. (분석에 중요하지 않으며 하위 섹션의 표기법을 혼란스럽게하는 역할을 하기 때문에)\n",
        "\n",
        "이 단순화된 모델에선 아래와 같이 나타낸다.\n",
        "\n",
        "$h_t$ = hidden state\n",
        "\n",
        "$x_t$ = input\n",
        "\n",
        "$o_t$ = output\n",
        "\n",
        "$t$ = time step\n",
        "\n",
        "섹션 8.4.2에서 input과 hidden state를 hidden layer에서 one weight variable로 곱하기 위해 연결할 수 있다고 함을 바탕으로, \n",
        "\n",
        "hidden layer와 output layer의 가중치를 나타내기 위해 $w_h$와 $w_o$를 사용한다.\n",
        "\n",
        "결과적으로, 각 timestep의 hidden state와 output은 다음과 같이 설명될 수 있다.\n",
        "\n",
        "(식 8.7.1)\n",
        "\n",
        "\n",
        "$$\\begin{aligned}h_t &= f(x_t, h_{t-1}, w_h),\\\\o_t &= g(h_t, w_o),\\end{aligned}$$ \n",
        "\n",
        "여기서 $f$와 $g$는 각각  hidden layer과 the output layer의 변환(transformation)이다.\n",
        "\n",
        "반복 계산을 통해 서로 의존하는 일련의 값 $\\{\\ldots, (x_{t-1}, h_{t-1}, o_{t-1}), (x_{t}, h_{t}, o_t), \\ldots\\}$이 있다.\n",
        "\n",
        "순전파(forward propagation)하는 것은 꽤 간단하다. $(x_t, h_t, o_t)$ 삼중항들을 한 번에 한 단계씩 반복하는 것이다.\n",
        "\n",
        "output $o_t$과 원하는 레이블 $y_t$ 사이의 불일치는 모든 $T$ time step에서 objective function에 의해 평가됩니다.  \n",
        "(식 8.7.2)\n",
        "\n",
        "\n",
        "$$L(x_1, \\ldots, x_T, y_1, \\ldots, y_T, w_h, w_o) = \\frac{1}{T}\\sum_{t=1}^T l(y_t, o_t).$$\n",
        "\n",
        "역전파의 경우, objective function $L$의 parameters $w_h$에 대한 그라디언트를 계산할 때 문제는 약간 까다롭다.\n",
        "\n",
        "(식 8.7.3)\n",
        "\n",
        "\n",
        "$$\\begin{aligned}\\frac{\\partial L}{\\partial w_h}  & = \\frac{1}{T}\\sum_{t=1}^T \\frac{\\partial l(y_t, o_t)}{\\partial w_h}  \\\\& = \\frac{1}{T}\\sum_{t=1}^T \\frac{\\partial l(y_t, o_t)}{\\partial o_t} \\frac{\\partial g(h_t, w_o)}{\\partial h_t}  \\frac{\\partial h_t}{\\partial w_h}.\\end{aligned}$$\n",
        "\n",
        "위 식의 product의 첫 번째 및 두 번째 요인은 계산하기 쉽다.\n",
        "\n",
        "세 번째 요인 $\\partial h_t/\\partial w_h$는 parameter $w_h$가 $h_t$에 미치는 영향을 반복적으로 계산해야 하기 때문에 상황이 까다로워지는 곳이다.\n",
        "\n",
        "(식 8.7.1)의 반복 계산에 따르면, $h_t$ 는 $h_{t-1}$과 $w_h$ 모두에 따라 달라지며, 여기서 $h_{t-1}$의 계산도 $w_h$에 따라 달라진다.\n",
        "\n",
        "(식 8.7.4)\n",
        "\n",
        "$$\\frac{\\partial h_t}{\\partial w_h}= \\frac{\\partial f(x_{t},h_{t-1},w_h)}{\\partial w_h} +\\frac{\\partial f(x_{t},h_{t-1},w_h)}{\\partial h_{t-1}} \\frac{\\partial h_{t-1}}{\\partial w_h}.$$\n",
        "\n",
        "위의 gradient를 도출하기 위해, 다음과 같이 가정한다.\n",
        "\n",
        "세 시퀀스$\\{a_{t}\\},\\{b_{t}\\},\\{c_{t}\\}$가 $a_{0}=0$ and $a_{t}=b_{t}+c_{t}a_{t-1}$ for $t=1, 2,\\ldots$를 만족한다.\n",
        "\n",
        "$t\\geq 1$일때,\n",
        "\n",
        "(식 8.7.5)\n",
        "$$a_{t}=b_{t}+\\sum_{i=1}^{t-1}\\left(\\prod_{j=i+1}^{t}c_{j}\\right)b_{i}.$$\n",
        "\n",
        "$a_{t}, b_{t},c_{t}$를 아래에 따라 치환한다.\n",
        "\n",
        "(식 8.7.6)\n",
        "$$\\begin{aligned}a_t &= \\frac{\\partial h_t}{\\partial w_h},\\\\\n",
        "b_t &= \\frac{\\partial f(x_{t},h_{t-1},w_h)}{\\partial w_h}, \\\\\n",
        "c_t &= \\frac{\\partial f(x_{t},h_{t-1},w_h)}{\\partial h_{t-1}},\\end{aligned}$$\n",
        "\n",
        "(식 8.7.4)의 그레이디언트 계산은 $a_{t}=b_{t}+c_{t}a_{t-1}$을 만족한다. 따라서, (식 8.7.5)에 따라 (식 8.7.4)의 반복 계산을 다음과 같이 제거할 수 있다.\n",
        "\n",
        "$$\\frac{\\partial h_t}{\\partial w_h}=\\frac{\\partial f(x_{t},h_{t-1},w_h)}{\\partial w_h}+\\sum_{i=1}^{t-1}\\left(\\prod_{j=i+1}^{t} \\frac{\\partial f(x_{j},h_{j-1},w_h)}{\\partial h_{j-1}} \\right) \\frac{\\partial f(x_{i},h_{i-1},w_h)}{\\partial w_h}.$$\n",
        "\n",
        "체인 규칙을 사용하여 $\\partial h_t/\\partial w_h$를 재귀적으로(recursively) 계산할 수 있지만, 이 체인은 $t$가 클 때마다 매우 길어질 수 있다. 문제 해결 방법에 대해 알아본다."
      ],
      "metadata": {
        "id": "9rjHNTSm548J"
      },
      "id": "9rjHNTSm548J"
    },
    {
      "cell_type": "markdown",
      "source": [
        "### Full Computation ### \n",
        "\n",
        "당연히 (8.7.7)에 있는 전체 합계를 계산할 수 있으나, 초기 조건의 미묘한 변화가 잠재적으로 결과에 많은 영향을 미칠 수 있기 때문에 이것은 매우 느리고 \bgradient exploding이 일어날 수 있다. 따라서 이 전략은 실제로 거의 사용되지 않는다.\n",
        "\n",
        "\n",
        "### Truncating Time Steps###\n",
        "\n",
        "또는 $\\tau$ 단계 후에 (8.7.7)에서 합계를 자를 수 있다. 결과로 모델이 주로 장기적인 결과보다는 단기적인 영향에 초점을 맞춘다. 이것은 추정을 더 단순하고 안정적인 모형으로 치우치기 때문에 실제로 바람직하다.\n",
        "\n",
        "### Randomized Truncation ### \n",
        "\n",
        "마지막으로, $\\partial h_t/\\partial w_h$를 올바른 예측을 한 시퀀스를 잘라내는 랜덤 변수로 대체할 수 있습니다. 이 방법은 드물지만 적절하게 overweight이 되는 시퀀스의 가중치 합으로 이어진다."
      ],
      "metadata": {
        "id": "_ctZSH3sP8MI"
      },
      "id": "_ctZSH3sP8MI"
    },
    {
      "cell_type": "markdown",
      "source": [
        "![truncated-bptt.svg](data:image/svg+xml;base64,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)"
      ],
      "metadata": {
        "id": "2JilgBfPSP-6"
      },
      "id": "2JilgBfPSP-6"
    },
    {
      "cell_type": "markdown",
      "source": [
        "### Comparing Strategies\n",
        "\n",
        "위 그림은 RNN에 대한 시간 역 전파를 사용하여 타임 머신 북의 처음 몇 글자를 분석할 때 다음과 같은 세 가지 전략을 보여준다. \n",
        "1. 첫 번째 행은 텍스트를 다양한 길이의 세그먼트로 분할하는 무작위 잘라내기다. \n",
        "2. 두 번째 행은 텍스트를 같은 길이의 연속체로 나누는 규칙적인 잘라내기다. 이것이 우리가 RNN 실험에서 해온 것이다. \n",
        "3. 세 번째 행은 계산적으로 실현 불가능한 표현으로 이어지는 BPTT다."
      ],
      "metadata": {
        "id": "Hpodv1n0SQbq"
      },
      "id": "Hpodv1n0SQbq"
    },
    {
      "cell_type": "markdown",
      "source": [
        "## Summary\n",
        "\n",
        "* Backpropagation through time는 hidden state를 가진 시퀀스 모델에 역전파를 적용하는 것에 불과하다.\n",
        "* Regular truncation 및 randomized truncation 같은 계산 편의성과 수치 안정성을 위해 truncation가 필요하다.\n",
        "* 행렬의 높은 검정력은 분산(divergent)되거나 사라지는 고유값(vanishing eigenvalues)을 초래할 수 있다. 이것은 폭발하거나 사라지는 그레이디언트(exploding or vanishing gradients)의 형태로 나타난다.\n",
        "* 효율적인 계산을 위해 중간 값은 시간에 따라 역전파되는 동안 임시저장(cached)된다."
      ],
      "metadata": {
        "id": "I7NNs4evJaOV"
      },
      "id": "I7NNs4evJaOV"
    }
  ],
  "metadata": {
    "accelerator": "GPU",
    "kernelspec": {
      "display_name": "Python 3",
      "name": "python3"
    },
    "language_info": {
      "name": "python"
    },
    "colab": {
      "name": "d2l_chap8.5-7.ipynb",
      "provenance": [],
      "collapsed_sections": [],
      "include_colab_link": true
    }
  },
  "nbformat": 4,
  "nbformat_minor": 5
}